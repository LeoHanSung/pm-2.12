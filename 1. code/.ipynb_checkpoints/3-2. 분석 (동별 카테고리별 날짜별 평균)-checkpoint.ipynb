{
 "cells": [
  {
   "cell_type": "code",
   "execution_count": 1,
   "metadata": {},
   "outputs": [],
   "source": [
    "import pandas as pd\n",
    "import numpy as np"
   ]
  },
  {
   "cell_type": "code",
   "execution_count": 2,
   "metadata": {
    "scrolled": true
   },
   "outputs": [
    {
     "data": {
      "text/html": [
       "<div>\n",
       "<style scoped>\n",
       "    .dataframe tbody tr th:only-of-type {\n",
       "        vertical-align: middle;\n",
       "    }\n",
       "\n",
       "    .dataframe tbody tr th {\n",
       "        vertical-align: top;\n",
       "    }\n",
       "\n",
       "    .dataframe thead th {\n",
       "        text-align: right;\n",
       "    }\n",
       "</style>\n",
       "<table border=\"1\" class=\"dataframe\">\n",
       "  <thead>\n",
       "    <tr style=\"text-align: right;\">\n",
       "      <th></th>\n",
       "      <th>station</th>\n",
       "      <th>dong</th>\n",
       "      <th>code</th>\n",
       "      <th>name</th>\n",
       "    </tr>\n",
       "  </thead>\n",
       "  <tbody>\n",
       "    <tr>\n",
       "      <th>0</th>\n",
       "      <td>V10O1610252</td>\n",
       "      <td>교남동</td>\n",
       "      <td>11110580</td>\n",
       "      <td>gyonam</td>\n",
       "    </tr>\n",
       "    <tr>\n",
       "      <th>1</th>\n",
       "      <td>V10O1610546</td>\n",
       "      <td>종로1.2.3.4가동</td>\n",
       "      <td>11110615</td>\n",
       "      <td>jongno1234</td>\n",
       "    </tr>\n",
       "    <tr>\n",
       "      <th>2</th>\n",
       "      <td>V10O1610540</td>\n",
       "      <td>종로1.2.3.4가동</td>\n",
       "      <td>11110615</td>\n",
       "      <td>jongno1234</td>\n",
       "    </tr>\n",
       "    <tr>\n",
       "      <th>3</th>\n",
       "      <td>V10O1610542</td>\n",
       "      <td>종로1.2.3.4가동</td>\n",
       "      <td>11110615</td>\n",
       "      <td>jongno1234</td>\n",
       "    </tr>\n",
       "    <tr>\n",
       "      <th>4</th>\n",
       "      <td>V10O1610543</td>\n",
       "      <td>종로1.2.3.4가동</td>\n",
       "      <td>11110615</td>\n",
       "      <td>jongno1234</td>\n",
       "    </tr>\n",
       "    <tr>\n",
       "      <th>5</th>\n",
       "      <td>V10O1610544</td>\n",
       "      <td>종로1.2.3.4가동</td>\n",
       "      <td>11110615</td>\n",
       "      <td>jongno1234</td>\n",
       "    </tr>\n",
       "    <tr>\n",
       "      <th>6</th>\n",
       "      <td>V10O1610545</td>\n",
       "      <td>종로1.2.3.4가동</td>\n",
       "      <td>11110615</td>\n",
       "      <td>jongno1234</td>\n",
       "    </tr>\n",
       "    <tr>\n",
       "      <th>7</th>\n",
       "      <td>V10O1610567</td>\n",
       "      <td>종로1.2.3.4가동</td>\n",
       "      <td>11110615</td>\n",
       "      <td>jongno1234</td>\n",
       "    </tr>\n",
       "    <tr>\n",
       "      <th>8</th>\n",
       "      <td>V10O1611172</td>\n",
       "      <td>사직동</td>\n",
       "      <td>11110530</td>\n",
       "      <td>sajik</td>\n",
       "    </tr>\n",
       "    <tr>\n",
       "      <th>9</th>\n",
       "      <td>V10O1611634</td>\n",
       "      <td>가회동</td>\n",
       "      <td>11110600</td>\n",
       "      <td>gahoe</td>\n",
       "    </tr>\n",
       "    <tr>\n",
       "      <th>10</th>\n",
       "      <td>V10O1611639</td>\n",
       "      <td>종로5.6가동</td>\n",
       "      <td>11110630</td>\n",
       "      <td>jongno56</td>\n",
       "    </tr>\n",
       "    <tr>\n",
       "      <th>11</th>\n",
       "      <td>V10O1611658</td>\n",
       "      <td>이화동</td>\n",
       "      <td>11110640</td>\n",
       "      <td>ihwa</td>\n",
       "    </tr>\n",
       "    <tr>\n",
       "      <th>12</th>\n",
       "      <td>V10O1612113</td>\n",
       "      <td>종로1.2.3.4가동</td>\n",
       "      <td>11110615</td>\n",
       "      <td>jongno1234</td>\n",
       "    </tr>\n",
       "    <tr>\n",
       "      <th>13</th>\n",
       "      <td>V10O1611151</td>\n",
       "      <td>창신1동</td>\n",
       "      <td>11110670</td>\n",
       "      <td>changsin1</td>\n",
       "    </tr>\n",
       "    <tr>\n",
       "      <th>14</th>\n",
       "      <td>V10O1611145</td>\n",
       "      <td>종로1.2.3.4가동</td>\n",
       "      <td>11110615</td>\n",
       "      <td>jongno1234</td>\n",
       "    </tr>\n",
       "    <tr>\n",
       "      <th>15</th>\n",
       "      <td>V10O1611623</td>\n",
       "      <td>혜화동</td>\n",
       "      <td>11110650</td>\n",
       "      <td>hyehwa</td>\n",
       "    </tr>\n",
       "    <tr>\n",
       "      <th>16</th>\n",
       "      <td>V10O1611750</td>\n",
       "      <td>종로1.2.3.4가동</td>\n",
       "      <td>11110615</td>\n",
       "      <td>jongno1234</td>\n",
       "    </tr>\n",
       "    <tr>\n",
       "      <th>17</th>\n",
       "      <td>V10O1611170</td>\n",
       "      <td>부암동</td>\n",
       "      <td>11110550</td>\n",
       "      <td>buam</td>\n",
       "    </tr>\n",
       "    <tr>\n",
       "      <th>18</th>\n",
       "      <td>V10O1611684</td>\n",
       "      <td>종로1.2.3.4가동</td>\n",
       "      <td>11110615</td>\n",
       "      <td>jongno1234</td>\n",
       "    </tr>\n",
       "    <tr>\n",
       "      <th>19</th>\n",
       "      <td>V10O1611220</td>\n",
       "      <td>창신1동</td>\n",
       "      <td>11110670</td>\n",
       "      <td>changsin1</td>\n",
       "    </tr>\n",
       "    <tr>\n",
       "      <th>20</th>\n",
       "      <td>V10O1612106</td>\n",
       "      <td>숭인2동</td>\n",
       "      <td>11110710</td>\n",
       "      <td>sungin2</td>\n",
       "    </tr>\n",
       "    <tr>\n",
       "      <th>21</th>\n",
       "      <td>V10O1611251</td>\n",
       "      <td>창신3동</td>\n",
       "      <td>11110690</td>\n",
       "      <td>changsin3</td>\n",
       "    </tr>\n",
       "    <tr>\n",
       "      <th>22</th>\n",
       "      <td>V10O1611173</td>\n",
       "      <td>종로1.2.3.4가동</td>\n",
       "      <td>11110615</td>\n",
       "      <td>jongno1234</td>\n",
       "    </tr>\n",
       "    <tr>\n",
       "      <th>23</th>\n",
       "      <td>V10O1611258</td>\n",
       "      <td>평창동</td>\n",
       "      <td>11110560</td>\n",
       "      <td>pyeongchang</td>\n",
       "    </tr>\n",
       "    <tr>\n",
       "      <th>24</th>\n",
       "      <td>V10O1611255</td>\n",
       "      <td>청운효자동</td>\n",
       "      <td>11110515</td>\n",
       "      <td>cheongunhyoja</td>\n",
       "    </tr>\n",
       "    <tr>\n",
       "      <th>25</th>\n",
       "      <td>V10O1611698</td>\n",
       "      <td>가회동</td>\n",
       "      <td>11110600</td>\n",
       "      <td>gahoe</td>\n",
       "    </tr>\n",
       "    <tr>\n",
       "      <th>26</th>\n",
       "      <td>V10O1611722</td>\n",
       "      <td>가회동</td>\n",
       "      <td>11110600</td>\n",
       "      <td>gahoe</td>\n",
       "    </tr>\n",
       "    <tr>\n",
       "      <th>27</th>\n",
       "      <td>V10O1611645</td>\n",
       "      <td>혜화동</td>\n",
       "      <td>11110650</td>\n",
       "      <td>hyehwa</td>\n",
       "    </tr>\n",
       "    <tr>\n",
       "      <th>28</th>\n",
       "      <td>V10O1610610</td>\n",
       "      <td>하계1동</td>\n",
       "      <td>11350611</td>\n",
       "      <td>hagye1</td>\n",
       "    </tr>\n",
       "    <tr>\n",
       "      <th>29</th>\n",
       "      <td>V10O1610376</td>\n",
       "      <td>상계6.7동</td>\n",
       "      <td>11350695</td>\n",
       "      <td>sanggye67</td>\n",
       "    </tr>\n",
       "    <tr>\n",
       "      <th>30</th>\n",
       "      <td>V10O1610293</td>\n",
       "      <td>상계10동</td>\n",
       "      <td>11350720</td>\n",
       "      <td>sanggye10</td>\n",
       "    </tr>\n",
       "    <tr>\n",
       "      <th>31</th>\n",
       "      <td>V10O1610356</td>\n",
       "      <td>상계1동</td>\n",
       "      <td>11350630</td>\n",
       "      <td>sanggye1</td>\n",
       "    </tr>\n",
       "    <tr>\n",
       "      <th>32</th>\n",
       "      <td>V10O1610616</td>\n",
       "      <td>상계2동</td>\n",
       "      <td>11350640</td>\n",
       "      <td>sanggye2</td>\n",
       "    </tr>\n",
       "    <tr>\n",
       "      <th>33</th>\n",
       "      <td>V10O1610200</td>\n",
       "      <td>상계2동</td>\n",
       "      <td>11350640</td>\n",
       "      <td>sanggye2</td>\n",
       "    </tr>\n",
       "    <tr>\n",
       "      <th>34</th>\n",
       "      <td>V10O1610643</td>\n",
       "      <td>월계3동</td>\n",
       "      <td>11350580</td>\n",
       "      <td>wolgye3</td>\n",
       "    </tr>\n",
       "    <tr>\n",
       "      <th>35</th>\n",
       "      <td>V10O1610642</td>\n",
       "      <td>공릉2동</td>\n",
       "      <td>11350600</td>\n",
       "      <td>gongneung2</td>\n",
       "    </tr>\n",
       "    <tr>\n",
       "      <th>36</th>\n",
       "      <td>V10O1610297</td>\n",
       "      <td>상계5동</td>\n",
       "      <td>11350670</td>\n",
       "      <td>sanggye5</td>\n",
       "    </tr>\n",
       "    <tr>\n",
       "      <th>37</th>\n",
       "      <td>V10O1610312</td>\n",
       "      <td>상계2동</td>\n",
       "      <td>11350640</td>\n",
       "      <td>sanggye2</td>\n",
       "    </tr>\n",
       "    <tr>\n",
       "      <th>38</th>\n",
       "      <td>V10O1610102</td>\n",
       "      <td>하계1동</td>\n",
       "      <td>11350611</td>\n",
       "      <td>hagye1</td>\n",
       "    </tr>\n",
       "    <tr>\n",
       "      <th>39</th>\n",
       "      <td>V10O1610351</td>\n",
       "      <td>상계6.7동</td>\n",
       "      <td>11350695</td>\n",
       "      <td>sanggye67</td>\n",
       "    </tr>\n",
       "    <tr>\n",
       "      <th>40</th>\n",
       "      <td>V10O1610629</td>\n",
       "      <td>공릉1동</td>\n",
       "      <td>11350595</td>\n",
       "      <td>gongneung1</td>\n",
       "    </tr>\n",
       "    <tr>\n",
       "      <th>41</th>\n",
       "      <td>V10O1610630</td>\n",
       "      <td>공릉1동</td>\n",
       "      <td>11350595</td>\n",
       "      <td>gongneung1</td>\n",
       "    </tr>\n",
       "    <tr>\n",
       "      <th>42</th>\n",
       "      <td>V10O1611104</td>\n",
       "      <td>상계6.7동</td>\n",
       "      <td>11350695</td>\n",
       "      <td>sanggye67</td>\n",
       "    </tr>\n",
       "    <tr>\n",
       "      <th>43</th>\n",
       "      <td>V10O1611097</td>\n",
       "      <td>중계2.3동</td>\n",
       "      <td>11350625</td>\n",
       "      <td>junggye23</td>\n",
       "    </tr>\n",
       "    <tr>\n",
       "      <th>44</th>\n",
       "      <td>V10O1611100</td>\n",
       "      <td>상계2동</td>\n",
       "      <td>11350640</td>\n",
       "      <td>sanggye2</td>\n",
       "    </tr>\n",
       "    <tr>\n",
       "      <th>45</th>\n",
       "      <td>V10O1612126</td>\n",
       "      <td>중계본동</td>\n",
       "      <td>11350619</td>\n",
       "      <td>junggyebon</td>\n",
       "    </tr>\n",
       "    <tr>\n",
       "      <th>46</th>\n",
       "      <td>V10O1611102</td>\n",
       "      <td>상계5동</td>\n",
       "      <td>11350670</td>\n",
       "      <td>sanggye5</td>\n",
       "    </tr>\n",
       "    <tr>\n",
       "      <th>47</th>\n",
       "      <td>V10O1611652</td>\n",
       "      <td>공릉2동</td>\n",
       "      <td>11350600</td>\n",
       "      <td>gongneung2</td>\n",
       "    </tr>\n",
       "    <tr>\n",
       "      <th>48</th>\n",
       "      <td>V10O1611150</td>\n",
       "      <td>상계3.4동</td>\n",
       "      <td>11350665</td>\n",
       "      <td>sanggye34</td>\n",
       "    </tr>\n",
       "    <tr>\n",
       "      <th>49</th>\n",
       "      <td>V10O1611229</td>\n",
       "      <td>월계1동</td>\n",
       "      <td>11350560</td>\n",
       "      <td>wolgye1</td>\n",
       "    </tr>\n",
       "    <tr>\n",
       "      <th>50</th>\n",
       "      <td>N</td>\n",
       "      <td>무악동</td>\n",
       "      <td>11110570</td>\n",
       "      <td>muak</td>\n",
       "    </tr>\n",
       "    <tr>\n",
       "      <th>51</th>\n",
       "      <td>N</td>\n",
       "      <td>창신2동</td>\n",
       "      <td>11110680</td>\n",
       "      <td>changsin2</td>\n",
       "    </tr>\n",
       "    <tr>\n",
       "      <th>52</th>\n",
       "      <td>N</td>\n",
       "      <td>숭인1동</td>\n",
       "      <td>11110700</td>\n",
       "      <td>sungin1</td>\n",
       "    </tr>\n",
       "    <tr>\n",
       "      <th>53</th>\n",
       "      <td>N</td>\n",
       "      <td>월계2동</td>\n",
       "      <td>11350570</td>\n",
       "      <td>wolgye2</td>\n",
       "    </tr>\n",
       "    <tr>\n",
       "      <th>54</th>\n",
       "      <td>N</td>\n",
       "      <td>하계2동</td>\n",
       "      <td>11350612</td>\n",
       "      <td>hagye2</td>\n",
       "    </tr>\n",
       "    <tr>\n",
       "      <th>55</th>\n",
       "      <td>N</td>\n",
       "      <td>중계1동</td>\n",
       "      <td>11350621</td>\n",
       "      <td>junggye1</td>\n",
       "    </tr>\n",
       "    <tr>\n",
       "      <th>56</th>\n",
       "      <td>N</td>\n",
       "      <td>중계4동</td>\n",
       "      <td>11350624</td>\n",
       "      <td>junggye4</td>\n",
       "    </tr>\n",
       "    <tr>\n",
       "      <th>57</th>\n",
       "      <td>N</td>\n",
       "      <td>상계8동</td>\n",
       "      <td>11350700</td>\n",
       "      <td>sanggye8</td>\n",
       "    </tr>\n",
       "    <tr>\n",
       "      <th>58</th>\n",
       "      <td>N</td>\n",
       "      <td>상계9동</td>\n",
       "      <td>11350710</td>\n",
       "      <td>sanggye9</td>\n",
       "    </tr>\n",
       "    <tr>\n",
       "      <th>59</th>\n",
       "      <td>N</td>\n",
       "      <td>삼청동</td>\n",
       "      <td>N</td>\n",
       "      <td>samcheong</td>\n",
       "    </tr>\n",
       "  </tbody>\n",
       "</table>\n",
       "</div>"
      ],
      "text/plain": [
       "        station         dong      code           name\n",
       "0   V10O1610252          교남동  11110580         gyonam\n",
       "1   V10O1610546  종로1.2.3.4가동  11110615     jongno1234\n",
       "2   V10O1610540  종로1.2.3.4가동  11110615     jongno1234\n",
       "3   V10O1610542  종로1.2.3.4가동  11110615     jongno1234\n",
       "4   V10O1610543  종로1.2.3.4가동  11110615     jongno1234\n",
       "5   V10O1610544  종로1.2.3.4가동  11110615     jongno1234\n",
       "6   V10O1610545  종로1.2.3.4가동  11110615     jongno1234\n",
       "7   V10O1610567  종로1.2.3.4가동  11110615     jongno1234\n",
       "8   V10O1611172          사직동  11110530          sajik\n",
       "9   V10O1611634          가회동  11110600          gahoe\n",
       "10  V10O1611639      종로5.6가동  11110630       jongno56\n",
       "11  V10O1611658          이화동  11110640           ihwa\n",
       "12  V10O1612113  종로1.2.3.4가동  11110615     jongno1234\n",
       "13  V10O1611151         창신1동  11110670      changsin1\n",
       "14  V10O1611145  종로1.2.3.4가동  11110615     jongno1234\n",
       "15  V10O1611623          혜화동  11110650         hyehwa\n",
       "16  V10O1611750  종로1.2.3.4가동  11110615     jongno1234\n",
       "17  V10O1611170          부암동  11110550           buam\n",
       "18  V10O1611684  종로1.2.3.4가동  11110615     jongno1234\n",
       "19  V10O1611220         창신1동  11110670      changsin1\n",
       "20  V10O1612106         숭인2동  11110710        sungin2\n",
       "21  V10O1611251         창신3동  11110690      changsin3\n",
       "22  V10O1611173  종로1.2.3.4가동  11110615     jongno1234\n",
       "23  V10O1611258          평창동  11110560    pyeongchang\n",
       "24  V10O1611255        청운효자동  11110515  cheongunhyoja\n",
       "25  V10O1611698          가회동  11110600          gahoe\n",
       "26  V10O1611722          가회동  11110600          gahoe\n",
       "27  V10O1611645          혜화동  11110650         hyehwa\n",
       "28  V10O1610610         하계1동  11350611         hagye1\n",
       "29  V10O1610376       상계6.7동  11350695      sanggye67\n",
       "30  V10O1610293        상계10동  11350720      sanggye10\n",
       "31  V10O1610356         상계1동  11350630       sanggye1\n",
       "32  V10O1610616         상계2동  11350640       sanggye2\n",
       "33  V10O1610200         상계2동  11350640       sanggye2\n",
       "34  V10O1610643         월계3동  11350580        wolgye3\n",
       "35  V10O1610642         공릉2동  11350600     gongneung2\n",
       "36  V10O1610297         상계5동  11350670       sanggye5\n",
       "37  V10O1610312         상계2동  11350640       sanggye2\n",
       "38  V10O1610102         하계1동  11350611         hagye1\n",
       "39  V10O1610351       상계6.7동  11350695      sanggye67\n",
       "40  V10O1610629         공릉1동  11350595     gongneung1\n",
       "41  V10O1610630         공릉1동  11350595     gongneung1\n",
       "42  V10O1611104       상계6.7동  11350695      sanggye67\n",
       "43  V10O1611097       중계2.3동  11350625      junggye23\n",
       "44  V10O1611100         상계2동  11350640       sanggye2\n",
       "45  V10O1612126         중계본동  11350619     junggyebon\n",
       "46  V10O1611102         상계5동  11350670       sanggye5\n",
       "47  V10O1611652         공릉2동  11350600     gongneung2\n",
       "48  V10O1611150       상계3.4동  11350665      sanggye34\n",
       "49  V10O1611229         월계1동  11350560        wolgye1\n",
       "50            N          무악동  11110570           muak\n",
       "51            N         창신2동  11110680      changsin2\n",
       "52            N         숭인1동  11110700        sungin1\n",
       "53            N         월계2동  11350570        wolgye2\n",
       "54            N         하계2동  11350612         hagye2\n",
       "55            N         중계1동  11350621       junggye1\n",
       "56            N         중계4동  11350624       junggye4\n",
       "57            N         상계8동  11350700       sanggye8\n",
       "58            N         상계9동  11350710       sanggye9\n",
       "59            N          삼청동         N      samcheong"
      ]
     },
     "execution_count": 2,
     "metadata": {},
     "output_type": "execute_result"
    }
   ],
   "source": [
    "# 미리 작업해둔 엑셀 파일 열기\n",
    "stat = pd.read_excel('../data/station.xlsx')\n",
    "stat"
   ]
  },
  {
   "cell_type": "code",
   "execution_count": 3,
   "metadata": {
    "scrolled": true
   },
   "outputs": [
    {
     "data": {
      "text/plain": [
       "{'gyonam': 11110580,\n",
       " 'jongno1234': 11110615,\n",
       " 'sajik': 11110530,\n",
       " 'gahoe': 11110600,\n",
       " 'jongno56': 11110630,\n",
       " 'ihwa': 11110640,\n",
       " 'changsin1': 11110670,\n",
       " 'hyehwa': 11110650,\n",
       " 'buam': 11110550,\n",
       " 'sungin2': 11110710,\n",
       " 'changsin3': 11110690,\n",
       " 'pyeongchang': 11110560,\n",
       " 'cheongunhyoja': 11110515,\n",
       " 'hagye1': 11350611,\n",
       " 'sanggye67': 11350695,\n",
       " 'sanggye10': 11350720,\n",
       " 'sanggye1': 11350630,\n",
       " 'sanggye2': 11350640,\n",
       " 'wolgye3': 11350580,\n",
       " 'gongneung2': 11350600,\n",
       " 'sanggye5': 11350670,\n",
       " 'gongneung1': 11350595,\n",
       " 'junggye23': 11350625,\n",
       " 'junggyebon': 11350619,\n",
       " 'sanggye34': 11350665,\n",
       " 'wolgye1': 11350560,\n",
       " 'muak': 11110570,\n",
       " 'changsin2': 11110680,\n",
       " 'sungin1': 11110700,\n",
       " 'wolgye2': 11350570,\n",
       " 'hagye2': 11350612,\n",
       " 'junggye1': 11350621,\n",
       " 'junggye4': 11350624,\n",
       " 'sanggye8': 11350700,\n",
       " 'sanggye9': 11350710,\n",
       " 'samcheong': 'N'}"
      ]
     },
     "execution_count": 3,
     "metadata": {},
     "output_type": "execute_result"
    }
   ],
   "source": [
    "# 딕셔너리 만들기 (영어 동이름 - 행정동 코드)\n",
    "aa1 = list(stat['name'])\n",
    "aa2 = list(stat['code'])\n",
    "dic = dict(zip(aa1,aa2))\n",
    "dic"
   ]
  },
  {
   "cell_type": "code",
   "execution_count": 4,
   "metadata": {},
   "outputs": [],
   "source": [
    "import glob\n",
    "import os\n",
    "import pandas as pd\n",
    "\n",
    "os.getcwd()\n",
    "\n",
    "# 딥인덱스 포함한 종합 데이터 가져오기\n",
    "filenames = glob.glob('../data/totaldeep/*.csv')"
   ]
  },
  {
   "cell_type": "code",
   "execution_count": 5,
   "metadata": {
    "scrolled": true
   },
   "outputs": [
    {
     "data": {
      "text/plain": [
       "['../data/totaldeep\\\\01_hagye1.csv',\n",
       " '../data/totaldeep\\\\02_sanggye2.csv',\n",
       " '../data/totaldeep\\\\03_gyonam.csv',\n",
       " '../data/totaldeep\\\\04_sanggye10.csv',\n",
       " '../data/totaldeep\\\\05_sanggye5.csv',\n",
       " '../data/totaldeep\\\\06_sanggye2.csv',\n",
       " '../data/totaldeep\\\\07_sanggye67.csv',\n",
       " '../data/totaldeep\\\\08_sanggye1.csv',\n",
       " '../data/totaldeep\\\\09_sanggye67.csv',\n",
       " '../data/totaldeep\\\\10_jongno1234.csv',\n",
       " '../data/totaldeep\\\\11_jongno1234.csv',\n",
       " '../data/totaldeep\\\\12_jongno1234.csv',\n",
       " '../data/totaldeep\\\\13_jongno1234.csv',\n",
       " '../data/totaldeep\\\\14_jongno1234.csv',\n",
       " '../data/totaldeep\\\\15_jongno1234.csv',\n",
       " '../data/totaldeep\\\\16_jongno1234.csv',\n",
       " '../data/totaldeep\\\\17_hagye1.csv',\n",
       " '../data/totaldeep\\\\18_sanggye2.csv',\n",
       " '../data/totaldeep\\\\19_gongneung1.csv',\n",
       " '../data/totaldeep\\\\20_gongneung1.csv',\n",
       " '../data/totaldeep\\\\21_gongneung2.csv',\n",
       " '../data/totaldeep\\\\22_wolgye3.csv',\n",
       " '../data/totaldeep\\\\23_junggye23.csv',\n",
       " '../data/totaldeep\\\\24_sanggye2.csv',\n",
       " '../data/totaldeep\\\\25_sanggye5.csv',\n",
       " '../data/totaldeep\\\\26_sanggye67.csv',\n",
       " '../data/totaldeep\\\\27_jongno1234.csv',\n",
       " '../data/totaldeep\\\\28_sanggye34.csv',\n",
       " '../data/totaldeep\\\\29_changsin1.csv',\n",
       " '../data/totaldeep\\\\30_buam.csv',\n",
       " '../data/totaldeep\\\\31_sajik.csv',\n",
       " '../data/totaldeep\\\\32_jongno1234.csv',\n",
       " '../data/totaldeep\\\\33_changsin1.csv',\n",
       " '../data/totaldeep\\\\34_wolgye1.csv',\n",
       " '../data/totaldeep\\\\35_changsin3.csv',\n",
       " '../data/totaldeep\\\\36_cheongunhyoja.csv',\n",
       " '../data/totaldeep\\\\37_pyeongchang.csv',\n",
       " '../data/totaldeep\\\\38_hyehwa.csv',\n",
       " '../data/totaldeep\\\\39_gahoe.csv',\n",
       " '../data/totaldeep\\\\40_jongno56.csv',\n",
       " '../data/totaldeep\\\\41_hyehwa.csv',\n",
       " '../data/totaldeep\\\\42_gongneung2.csv',\n",
       " '../data/totaldeep\\\\43_ihwa.csv',\n",
       " '../data/totaldeep\\\\44_jongno1234.csv',\n",
       " '../data/totaldeep\\\\45_gahoe.csv',\n",
       " '../data/totaldeep\\\\46_gahoe.csv',\n",
       " '../data/totaldeep\\\\47_jongno1234.csv',\n",
       " '../data/totaldeep\\\\48_sungin2.csv',\n",
       " '../data/totaldeep\\\\49_jongno1234.csv',\n",
       " '../data/totaldeep\\\\50_junggyebon.csv']"
      ]
     },
     "execution_count": 5,
     "metadata": {},
     "output_type": "execute_result"
    }
   ],
   "source": [
    "filenames"
   ]
  },
  {
   "cell_type": "code",
   "execution_count": 6,
   "metadata": {},
   "outputs": [
    {
     "data": {
      "application/vnd.jupyter.widget-view+json": {
       "model_id": "18b6cf5ca89a4d52995ca1caa05b1082",
       "version_major": 2,
       "version_minor": 0
      },
      "text/plain": [
       "HBox(children=(IntProgress(value=0, max=50), HTML(value='')))"
      ]
     },
     "metadata": {},
     "output_type": "display_data"
    },
    {
     "name": "stdout",
     "output_type": "stream",
     "text": [
      "\n"
     ]
    }
   ],
   "source": [
    "# 직관적 분석을 위해 (-1) 곱하기 : 미세먼지와 인덱스를 양의 상관관계로 만드는 작업\n",
    "\n",
    "from tqdm import tqdm_notebook\n",
    "for i in tqdm_notebook(range(len(filenames))) :\n",
    "    f = filenames[i]\n",
    "    af = pd.read_csv(f)\n",
    "    af['Deepindex'] = af['Deepindex'] * (-1)\n",
    "    af.to_csv('../data/totaldeep2/'+f[18:-4]+'.csv', index = False)"
   ]
  },
  {
   "cell_type": "code",
   "execution_count": 7,
   "metadata": {},
   "outputs": [],
   "source": [
    "os.getcwd()\n",
    "\n",
    "# -1을 곱한 딥인덱스 포함한 종합 데이터 가져오기\n",
    "filenames2 = glob.glob('../data/totaldeep2/*.csv')"
   ]
  },
  {
   "cell_type": "code",
   "execution_count": 8,
   "metadata": {},
   "outputs": [
    {
     "data": {
      "text/plain": [
       "['../data/totaldeep2\\\\01_hagye1.csv',\n",
       " '../data/totaldeep2\\\\02_sanggye2.csv',\n",
       " '../data/totaldeep2\\\\03_gyonam.csv',\n",
       " '../data/totaldeep2\\\\04_sanggye10.csv',\n",
       " '../data/totaldeep2\\\\05_sanggye5.csv',\n",
       " '../data/totaldeep2\\\\06_sanggye2.csv',\n",
       " '../data/totaldeep2\\\\07_sanggye67.csv',\n",
       " '../data/totaldeep2\\\\08_sanggye1.csv',\n",
       " '../data/totaldeep2\\\\09_sanggye67.csv',\n",
       " '../data/totaldeep2\\\\10_jongno1234.csv',\n",
       " '../data/totaldeep2\\\\11_jongno1234.csv',\n",
       " '../data/totaldeep2\\\\12_jongno1234.csv',\n",
       " '../data/totaldeep2\\\\13_jongno1234.csv',\n",
       " '../data/totaldeep2\\\\14_jongno1234.csv',\n",
       " '../data/totaldeep2\\\\15_jongno1234.csv',\n",
       " '../data/totaldeep2\\\\16_jongno1234.csv',\n",
       " '../data/totaldeep2\\\\17_hagye1.csv',\n",
       " '../data/totaldeep2\\\\18_sanggye2.csv',\n",
       " '../data/totaldeep2\\\\19_gongneung1.csv',\n",
       " '../data/totaldeep2\\\\20_gongneung1.csv',\n",
       " '../data/totaldeep2\\\\21_gongneung2.csv',\n",
       " '../data/totaldeep2\\\\22_wolgye3.csv',\n",
       " '../data/totaldeep2\\\\23_junggye23.csv',\n",
       " '../data/totaldeep2\\\\24_sanggye2.csv',\n",
       " '../data/totaldeep2\\\\25_sanggye5.csv',\n",
       " '../data/totaldeep2\\\\26_sanggye67.csv',\n",
       " '../data/totaldeep2\\\\27_jongno1234.csv',\n",
       " '../data/totaldeep2\\\\28_sanggye34.csv',\n",
       " '../data/totaldeep2\\\\29_changsin1.csv',\n",
       " '../data/totaldeep2\\\\30_buam.csv',\n",
       " '../data/totaldeep2\\\\31_sajik.csv',\n",
       " '../data/totaldeep2\\\\32_jongno1234.csv',\n",
       " '../data/totaldeep2\\\\33_changsin1.csv',\n",
       " '../data/totaldeep2\\\\34_wolgye1.csv',\n",
       " '../data/totaldeep2\\\\35_changsin3.csv',\n",
       " '../data/totaldeep2\\\\36_cheongunhyoja.csv',\n",
       " '../data/totaldeep2\\\\37_pyeongchang.csv',\n",
       " '../data/totaldeep2\\\\38_hyehwa.csv',\n",
       " '../data/totaldeep2\\\\39_gahoe.csv',\n",
       " '../data/totaldeep2\\\\40_jongno56.csv',\n",
       " '../data/totaldeep2\\\\41_hyehwa.csv',\n",
       " '../data/totaldeep2\\\\42_gongneung2.csv',\n",
       " '../data/totaldeep2\\\\43_ihwa.csv',\n",
       " '../data/totaldeep2\\\\44_jongno1234.csv',\n",
       " '../data/totaldeep2\\\\45_gahoe.csv',\n",
       " '../data/totaldeep2\\\\46_gahoe.csv',\n",
       " '../data/totaldeep2\\\\47_jongno1234.csv',\n",
       " '../data/totaldeep2\\\\48_sungin2.csv',\n",
       " '../data/totaldeep2\\\\49_jongno1234.csv',\n",
       " '../data/totaldeep2\\\\50_junggyebon.csv']"
      ]
     },
     "execution_count": 8,
     "metadata": {},
     "output_type": "execute_result"
    }
   ],
   "source": [
    "filenames2"
   ]
  },
  {
   "cell_type": "code",
   "execution_count": 9,
   "metadata": {
    "scrolled": true
   },
   "outputs": [
    {
     "data": {
      "application/vnd.jupyter.widget-view+json": {
       "model_id": "baed53d8b86748b8a076bed79649efb8",
       "version_major": 2,
       "version_minor": 0
      },
      "text/plain": [
       "HBox(children=(IntProgress(value=0, max=50), HTML(value='')))"
      ]
     },
     "metadata": {},
     "output_type": "display_data"
    },
    {
     "name": "stdout",
     "output_type": "stream",
     "text": [
      "hagye1\n",
      "01_hagye1\n",
      "sanggye2\n",
      "02_sanggye2\n",
      "gyonam\n",
      "03_gyonam\n",
      "sanggye10\n",
      "04_sanggye10\n",
      "sanggye5\n",
      "05_sanggye5\n",
      "sanggye2\n",
      "06_sanggye2\n",
      "sanggye67\n",
      "07_sanggye67\n",
      "sanggye1\n",
      "08_sanggye1\n",
      "sanggye67\n",
      "09_sanggye67\n",
      "jongno1234\n",
      "10_jongno1234\n",
      "jongno1234\n",
      "11_jongno1234\n",
      "jongno1234\n",
      "12_jongno1234\n",
      "jongno1234\n",
      "13_jongno1234\n",
      "jongno1234\n",
      "14_jongno1234\n",
      "jongno1234\n",
      "15_jongno1234\n",
      "jongno1234\n",
      "16_jongno1234\n",
      "hagye1\n",
      "17_hagye1\n",
      "sanggye2\n",
      "18_sanggye2\n",
      "gongneung1\n",
      "19_gongneung1\n",
      "gongneung1\n",
      "20_gongneung1\n",
      "gongneung2\n",
      "21_gongneung2\n",
      "wolgye3\n",
      "22_wolgye3\n",
      "junggye23\n",
      "23_junggye23\n",
      "sanggye2\n",
      "24_sanggye2\n",
      "sanggye5\n",
      "25_sanggye5\n",
      "sanggye67\n",
      "26_sanggye67\n",
      "jongno1234\n",
      "27_jongno1234\n",
      "sanggye34\n",
      "28_sanggye34\n",
      "changsin1\n",
      "29_changsin1\n",
      "buam\n",
      "30_buam\n",
      "sajik\n",
      "31_sajik\n",
      "jongno1234\n",
      "32_jongno1234\n",
      "changsin1\n",
      "33_changsin1\n",
      "wolgye1\n",
      "34_wolgye1\n",
      "changsin3\n",
      "35_changsin3\n",
      "cheongunhyoja\n",
      "36_cheongunhyoja\n",
      "pyeongchang\n",
      "37_pyeongchang\n",
      "hyehwa\n",
      "38_hyehwa\n",
      "gahoe\n",
      "39_gahoe\n",
      "jongno56\n",
      "40_jongno56\n",
      "hyehwa\n",
      "41_hyehwa\n",
      "gongneung2\n",
      "42_gongneung2\n",
      "ihwa\n",
      "43_ihwa\n",
      "jongno1234\n",
      "44_jongno1234\n",
      "gahoe\n",
      "45_gahoe\n",
      "gahoe\n",
      "46_gahoe\n",
      "jongno1234\n",
      "47_jongno1234\n",
      "sungin2\n",
      "48_sungin2\n",
      "jongno1234\n",
      "49_jongno1234\n",
      "junggyebon\n",
      "50_junggyebon\n",
      "\n"
     ]
    }
   ],
   "source": [
    "# 추후 작업을 위해 파일명에서 이름 위치 확인\n",
    "\n",
    "from tqdm import tqdm_notebook\n",
    "for i in tqdm_notebook(range(len(filenames))) :\n",
    "    f = filenames2[i]\n",
    "    qq = f[22:-4]\n",
    "    print(qq)\n",
    "    qq1 = f[19:-4]\n",
    "    print(qq1)"
   ]
  },
  {
   "cell_type": "code",
   "execution_count": 12,
   "metadata": {},
   "outputs": [
    {
     "data": {
      "application/vnd.jupyter.widget-view+json": {
       "model_id": "d68c649b3e044bb8b86c31cadfdc1c0a",
       "version_major": 2,
       "version_minor": 0
      },
      "text/plain": [
       "HBox(children=(IntProgress(value=0, max=50), HTML(value='')))"
      ]
     },
     "metadata": {},
     "output_type": "display_data"
    },
    {
     "name": "stdout",
     "output_type": "stream",
     "text": [
      "[1.13506110e+07 1.22496431e+00 4.06351184e-01 2.74364700e-01\n",
      " 4.33452645e-01 3.44880804e-02 5.51732487e-02 6.99696058e-03\n",
      " 1.09255387e-02 3.21195672e-03]\n",
      "[1.13506110e+07 1.29932148e+00 4.12860182e-01 2.90154133e-01\n",
      " 4.82068402e-01 3.66206502e-02 5.46529137e-02 8.35266173e-03\n",
      " 1.07439934e-02 3.86854252e-03]\n",
      "1번째 완료되었습니다.\n",
      "------------------------------------------------\n",
      "[1.13506400e+07 1.32328091e+00 4.37434718e-01 2.94819548e-01\n",
      " 4.53640128e-01 3.74877739e-02 7.94087134e-02 6.49084701e-03\n",
      " 9.21453554e-03 4.78464742e-03]\n",
      "[1.13506400e+07 1.35140968e+00 4.50299013e-01 2.80697099e-01\n",
      " 4.81742432e-01 4.07294212e-02 7.59074407e-02 7.27690014e-03\n",
      " 1.01721762e-02 4.58519676e-03]\n"
     ]
    },
    {
     "name": "stderr",
     "output_type": "stream",
     "text": [
      "C:\\Anaconda3\\lib\\site-packages\\ipykernel_launcher.py:67: SettingWithCopyWarning: \n",
      "A value is trying to be set on a copy of a slice from a DataFrame\n",
      "\n",
      "See the caveats in the documentation: http://pandas.pydata.org/pandas-docs/stable/indexing.html#indexing-view-versus-copy\n"
     ]
    },
    {
     "name": "stdout",
     "output_type": "stream",
     "text": [
      "2번째 완료되었습니다.\n",
      "-------------------------------------------------\n",
      "[1.11105800e+07 9.59766644e-01 3.35912914e-01 2.08361895e-01\n",
      " 2.93033414e-01 4.45059285e-02 5.96890486e-02 5.69578198e-03\n",
      " 1.05716686e-02 1.99599427e-03]\n",
      "[1.11105800e+07 9.65458799e-01 3.41644898e-01 2.08467061e-01\n",
      " 3.01696712e-01 4.24746849e-02 5.35461942e-02 6.18462930e-03\n",
      " 9.81025571e-03 1.63436459e-03]\n"
     ]
    },
    {
     "name": "stderr",
     "output_type": "stream",
     "text": [
      "C:\\Anaconda3\\lib\\site-packages\\ipykernel_launcher.py:67: SettingWithCopyWarning: \n",
      "A value is trying to be set on a copy of a slice from a DataFrame\n",
      "\n",
      "See the caveats in the documentation: http://pandas.pydata.org/pandas-docs/stable/indexing.html#indexing-view-versus-copy\n"
     ]
    },
    {
     "name": "stdout",
     "output_type": "stream",
     "text": [
      "3번째 완료되었습니다.\n",
      "-------------------------------------------------\n",
      "[1.13507200e+07 7.76041440e-01 2.56535366e-01 1.67802550e-01\n",
      " 2.78947090e-01 1.61338726e-02 4.08214255e-02 5.87917720e-03\n",
      " 7.05695387e-03 2.86500479e-03]\n",
      "[1.13507200e+07 8.85200665e-01 2.73932920e-01 1.85000766e-01\n",
      " 3.52306151e-01 1.59019254e-02 4.20455888e-02 5.68423039e-03\n",
      " 7.21908925e-03 3.10999340e-03]\n"
     ]
    },
    {
     "name": "stderr",
     "output_type": "stream",
     "text": [
      "C:\\Anaconda3\\lib\\site-packages\\ipykernel_launcher.py:67: SettingWithCopyWarning: \n",
      "A value is trying to be set on a copy of a slice from a DataFrame\n",
      "\n",
      "See the caveats in the documentation: http://pandas.pydata.org/pandas-docs/stable/indexing.html#indexing-view-versus-copy\n"
     ]
    },
    {
     "name": "stdout",
     "output_type": "stream",
     "text": [
      "4번째 완료되었습니다.\n",
      "-------------------------------------------------\n",
      "[1.13506700e+07 7.98637954e-01 2.92813147e-01 1.61286706e-01\n",
      " 2.76924584e-01 2.07258863e-02 3.02965648e-02 5.36616506e-03\n",
      " 5.86408697e-03 5.36081324e-03]\n",
      "[1.13506700e+07 8.18386920e-01 2.86295398e-01 1.59908977e-01\n",
      " 3.05995114e-01 1.86993617e-02 2.90608514e-02 6.78119761e-03\n",
      " 5.93446444e-03 5.71155537e-03]\n"
     ]
    },
    {
     "name": "stderr",
     "output_type": "stream",
     "text": [
      "C:\\Anaconda3\\lib\\site-packages\\ipykernel_launcher.py:67: SettingWithCopyWarning: \n",
      "A value is trying to be set on a copy of a slice from a DataFrame\n",
      "\n",
      "See the caveats in the documentation: http://pandas.pydata.org/pandas-docs/stable/indexing.html#indexing-view-versus-copy\n"
     ]
    },
    {
     "name": "stdout",
     "output_type": "stream",
     "text": [
      "5번째 완료되었습니다.\n",
      "-------------------------------------------------\n",
      "[1.13506400e+07 1.31959288e+00 4.31355423e-01 2.92610691e-01\n",
      " 4.46299113e-01 5.14644144e-02 7.77799449e-02 6.50760862e-03\n",
      " 9.73768468e-03 3.83800136e-03]\n",
      "[1.13506400e+07 1.35647461e+00 4.51124232e-01 2.87305973e-01\n",
      " 4.67579515e-01 4.85895405e-02 8.13542995e-02 6.70793120e-03\n",
      " 1.00211732e-02 3.79194456e-03]\n"
     ]
    },
    {
     "name": "stderr",
     "output_type": "stream",
     "text": [
      "C:\\Anaconda3\\lib\\site-packages\\ipykernel_launcher.py:67: SettingWithCopyWarning: \n",
      "A value is trying to be set on a copy of a slice from a DataFrame\n",
      "\n",
      "See the caveats in the documentation: http://pandas.pydata.org/pandas-docs/stable/indexing.html#indexing-view-versus-copy\n"
     ]
    },
    {
     "name": "stdout",
     "output_type": "stream",
     "text": [
      "6번째 완료되었습니다.\n",
      "-------------------------------------------------\n",
      "[1.13506950e+07 9.72743182e-01 2.92632144e-01 2.37320466e-01\n",
      " 3.29857227e-01 4.19407444e-02 5.38626698e-02 5.48467071e-03\n",
      " 7.15577445e-03 4.48948472e-03]\n",
      "[1.13506950e+07 1.01089358e+00 3.00150701e-01 2.45386961e-01\n",
      " 3.49153852e-01 5.00257030e-02 4.89675520e-02 5.81260197e-03\n",
      " 6.45877593e-03 4.93742945e-03]\n"
     ]
    },
    {
     "name": "stderr",
     "output_type": "stream",
     "text": [
      "C:\\Anaconda3\\lib\\site-packages\\ipykernel_launcher.py:67: SettingWithCopyWarning: \n",
      "A value is trying to be set on a copy of a slice from a DataFrame\n",
      "\n",
      "See the caveats in the documentation: http://pandas.pydata.org/pandas-docs/stable/indexing.html#indexing-view-versus-copy\n"
     ]
    },
    {
     "name": "stdout",
     "output_type": "stream",
     "text": [
      "7번째 완료되었습니다.\n",
      "-------------------------------------------------\n",
      "[1.13506300e+07 7.51400567e-01 2.20484889e-01 1.74830350e-01\n",
      " 2.82436441e-01 1.60467219e-02 4.15637709e-02 6.25100614e-03\n",
      " 6.50144481e-03 3.28594374e-03]\n",
      "[1.13506300e+07 7.85012168e-01 2.18076044e-01 1.81038278e-01\n",
      " 3.10974186e-01 1.75532855e-02 4.02237939e-02 7.12261083e-03\n",
      " 6.46869608e-03 3.55527336e-03]\n"
     ]
    },
    {
     "name": "stderr",
     "output_type": "stream",
     "text": [
      "C:\\Anaconda3\\lib\\site-packages\\ipykernel_launcher.py:67: SettingWithCopyWarning: \n",
      "A value is trying to be set on a copy of a slice from a DataFrame\n",
      "\n",
      "See the caveats in the documentation: http://pandas.pydata.org/pandas-docs/stable/indexing.html#indexing-view-versus-copy\n"
     ]
    },
    {
     "name": "stdout",
     "output_type": "stream",
     "text": [
      "8번째 완료되었습니다.\n",
      "-------------------------------------------------\n",
      "[1.13506950e+07 1.03125088e+00 2.98497197e-01 2.48736511e-01\n",
      " 3.66702969e-01 4.50364337e-02 5.38281738e-02 5.82195506e-03\n",
      " 7.05125806e-03 5.57638400e-03]\n",
      "[1.13506950e+07 1.07740632e+00 3.11106016e-01 2.39773506e-01\n",
      " 4.04575171e-01 5.20623477e-02 5.12516689e-02 5.74074729e-03\n",
      " 6.85822639e-03 6.03863516e-03]\n"
     ]
    },
    {
     "name": "stderr",
     "output_type": "stream",
     "text": [
      "C:\\Anaconda3\\lib\\site-packages\\ipykernel_launcher.py:67: SettingWithCopyWarning: \n",
      "A value is trying to be set on a copy of a slice from a DataFrame\n",
      "\n",
      "See the caveats in the documentation: http://pandas.pydata.org/pandas-docs/stable/indexing.html#indexing-view-versus-copy\n"
     ]
    },
    {
     "name": "stdout",
     "output_type": "stream",
     "text": [
      "9번째 완료되었습니다.\n",
      "-------------------------------------------------\n",
      "[1.11106150e+07 1.51091749e+00 4.30102769e-01 2.97799230e-01\n",
      " 5.71886442e-01 4.06979876e-02 1.39777990e-01 6.01508821e-03\n",
      " 2.13848242e-02 3.25315700e-03]\n",
      "[1.11106150e+07 1.75329293e+00 5.11301281e-01 3.31315113e-01\n",
      " 6.92795428e-01 4.84018854e-02 1.37650634e-01 6.73667944e-03\n",
      " 2.21847286e-02 2.90717920e-03]\n"
     ]
    },
    {
     "name": "stderr",
     "output_type": "stream",
     "text": [
      "C:\\Anaconda3\\lib\\site-packages\\ipykernel_launcher.py:67: SettingWithCopyWarning: \n",
      "A value is trying to be set on a copy of a slice from a DataFrame\n",
      "\n",
      "See the caveats in the documentation: http://pandas.pydata.org/pandas-docs/stable/indexing.html#indexing-view-versus-copy\n"
     ]
    },
    {
     "name": "stdout",
     "output_type": "stream",
     "text": [
      "10번째 완료되었습니다.\n",
      "-------------------------------------------------\n",
      "[1.11106150e+07 1.51542110e+00 4.32187117e-01 3.05880644e-01\n",
      " 5.67810485e-01 4.12835960e-02 1.37755309e-01 5.98361018e-03\n",
      " 2.12918342e-02 3.22850437e-03]\n",
      "[1.11106150e+07 1.74261643e+00 5.09414398e-01 3.22044437e-01\n",
      " 6.93848942e-01 4.75694291e-02 1.37867546e-01 6.80485778e-03\n",
      " 2.21589364e-02 2.90788373e-03]\n"
     ]
    },
    {
     "name": "stderr",
     "output_type": "stream",
     "text": [
      "C:\\Anaconda3\\lib\\site-packages\\ipykernel_launcher.py:67: SettingWithCopyWarning: \n",
      "A value is trying to be set on a copy of a slice from a DataFrame\n",
      "\n",
      "See the caveats in the documentation: http://pandas.pydata.org/pandas-docs/stable/indexing.html#indexing-view-versus-copy\n"
     ]
    },
    {
     "name": "stdout",
     "output_type": "stream",
     "text": [
      "11번째 완료되었습니다.\n",
      "-------------------------------------------------\n",
      "[1.11106150e+07 1.52861138e+00 4.35110250e-01 3.06940408e-01\n",
      " 5.75683747e-01 4.10531848e-02 1.39215836e-01 6.00151221e-03\n",
      " 2.13515961e-02 3.25484540e-03]\n",
      "[1.11106150e+07 1.75938826e+00 5.09156847e-01 3.26449576e-01\n",
      " 7.06007807e-01 4.76969962e-02 1.37541049e-01 6.82027046e-03\n",
      " 2.26100162e-02 3.10570000e-03]\n"
     ]
    },
    {
     "name": "stderr",
     "output_type": "stream",
     "text": [
      "C:\\Anaconda3\\lib\\site-packages\\ipykernel_launcher.py:67: SettingWithCopyWarning: \n",
      "A value is trying to be set on a copy of a slice from a DataFrame\n",
      "\n",
      "See the caveats in the documentation: http://pandas.pydata.org/pandas-docs/stable/indexing.html#indexing-view-versus-copy\n"
     ]
    },
    {
     "name": "stdout",
     "output_type": "stream",
     "text": [
      "12번째 완료되었습니다.\n",
      "-------------------------------------------------\n",
      "[1.11106150e+07 1.56303072e+00 4.43005796e-01 3.03922083e-01\n",
      " 6.03172528e-01 4.00666275e-02 1.42066282e-01 5.93179715e-03\n",
      " 2.14993409e-02 3.36626371e-03]\n",
      "[1.11106150e+07 1.84008856e+00 5.19367124e-01 3.43679465e-01\n",
      " 7.57932927e-01 4.63740067e-02 1.39231190e-01 7.08293033e-03\n",
      " 2.32459908e-02 3.17492463e-03]\n"
     ]
    },
    {
     "name": "stderr",
     "output_type": "stream",
     "text": [
      "C:\\Anaconda3\\lib\\site-packages\\ipykernel_launcher.py:67: SettingWithCopyWarning: \n",
      "A value is trying to be set on a copy of a slice from a DataFrame\n",
      "\n",
      "See the caveats in the documentation: http://pandas.pydata.org/pandas-docs/stable/indexing.html#indexing-view-versus-copy\n"
     ]
    },
    {
     "name": "stdout",
     "output_type": "stream",
     "text": [
      "13번째 완료되었습니다.\n",
      "-------------------------------------------------\n",
      "[1.11106150e+07 1.56183970e+00 4.44686442e-01 3.01934672e-01\n",
      " 6.02490738e-01 4.05774181e-02 1.41330024e-01 6.00138836e-03\n",
      " 2.15086323e-02 3.31038953e-03]\n",
      "[1.11106150e+07 1.82463050e+00 5.17403620e-01 3.40262611e-01\n",
      " 7.49860956e-01 4.64221540e-02 1.37718013e-01 6.96374187e-03\n",
      " 2.28573427e-02 3.14206131e-03]\n"
     ]
    },
    {
     "name": "stderr",
     "output_type": "stream",
     "text": [
      "C:\\Anaconda3\\lib\\site-packages\\ipykernel_launcher.py:67: SettingWithCopyWarning: \n",
      "A value is trying to be set on a copy of a slice from a DataFrame\n",
      "\n",
      "See the caveats in the documentation: http://pandas.pydata.org/pandas-docs/stable/indexing.html#indexing-view-versus-copy\n"
     ]
    },
    {
     "name": "stdout",
     "output_type": "stream",
     "text": [
      "14번째 완료되었습니다.\n",
      "-------------------------------------------------\n",
      "[1.11106150e+07 1.53266003e+00 4.37889021e-01 3.07201397e-01\n",
      " 5.78241355e-01 4.15879479e-02 1.37204945e-01 5.97610531e-03\n",
      " 2.13298244e-02 3.22943255e-03]\n",
      "[1.11106150e+07 1.78561265e+00 5.09922279e-01 3.32254301e-01\n",
      " 7.26226204e-01 4.69082293e-02 1.37568651e-01 6.91602384e-03\n",
      " 2.26501144e-02 3.16684396e-03]\n"
     ]
    },
    {
     "name": "stderr",
     "output_type": "stream",
     "text": [
      "C:\\Anaconda3\\lib\\site-packages\\ipykernel_launcher.py:67: SettingWithCopyWarning: \n",
      "A value is trying to be set on a copy of a slice from a DataFrame\n",
      "\n",
      "See the caveats in the documentation: http://pandas.pydata.org/pandas-docs/stable/indexing.html#indexing-view-versus-copy\n"
     ]
    },
    {
     "name": "stdout",
     "output_type": "stream",
     "text": [
      "15번째 완료되었습니다.\n",
      "-------------------------------------------------\n",
      "[1.11106150e+07 1.57444493e+00 4.42124152e-01 3.10600650e-01\n",
      " 6.09780906e-01 4.01581384e-02 1.40628117e-01 6.08069718e-03\n",
      " 2.17094225e-02 3.36284575e-03]\n",
      "[1.11106150e+07 1.84414141e+00 5.25518632e-01 3.42864365e-01\n",
      " 7.55185382e-01 4.72793180e-02 1.40155109e-01 6.98721096e-03\n",
      " 2.29548177e-02 3.19657220e-03]\n"
     ]
    },
    {
     "name": "stderr",
     "output_type": "stream",
     "text": [
      "C:\\Anaconda3\\lib\\site-packages\\ipykernel_launcher.py:67: SettingWithCopyWarning: \n",
      "A value is trying to be set on a copy of a slice from a DataFrame\n",
      "\n",
      "See the caveats in the documentation: http://pandas.pydata.org/pandas-docs/stable/indexing.html#indexing-view-versus-copy\n"
     ]
    },
    {
     "name": "stdout",
     "output_type": "stream",
     "text": [
      "16번째 완료되었습니다.\n",
      "-------------------------------------------------\n",
      "[1.13506110e+07 1.34766328e+00 4.13895783e-01 3.13893771e-01\n",
      " 4.92938442e-01 3.44721373e-02 6.34875389e-02 1.03661985e-02\n",
      " 1.26035885e-02 6.00581975e-03]\n",
      "[1.13506110e+07 1.38709539e+00 4.30703401e-01 3.19863249e-01\n",
      " 5.10896781e-01 3.81991023e-02 6.02413542e-02 1.08570900e-02\n",
      " 1.09728431e-02 5.36156697e-03]\n"
     ]
    },
    {
     "name": "stderr",
     "output_type": "stream",
     "text": [
      "C:\\Anaconda3\\lib\\site-packages\\ipykernel_launcher.py:67: SettingWithCopyWarning: \n",
      "A value is trying to be set on a copy of a slice from a DataFrame\n",
      "\n",
      "See the caveats in the documentation: http://pandas.pydata.org/pandas-docs/stable/indexing.html#indexing-view-versus-copy\n"
     ]
    },
    {
     "name": "stdout",
     "output_type": "stream",
     "text": [
      "17번째 완료되었습니다.\n",
      "-------------------------------------------------\n",
      "[1.13506400e+07 1.35087229e+00 4.42827597e-01 2.89878948e-01\n",
      " 4.65761813e-01 4.94920509e-02 8.05038361e-02 7.95414631e-03\n",
      " 1.02657047e-02 4.18819513e-03]\n",
      "[1.13506400e+07 1.45316765e+00 4.69687814e-01 2.83160846e-01\n",
      " 5.50257155e-01 4.71599245e-02 7.98817321e-02 7.77151177e-03\n",
      " 1.04547108e-02 4.79396097e-03]\n"
     ]
    },
    {
     "name": "stderr",
     "output_type": "stream",
     "text": [
      "C:\\Anaconda3\\lib\\site-packages\\ipykernel_launcher.py:67: SettingWithCopyWarning: \n",
      "A value is trying to be set on a copy of a slice from a DataFrame\n",
      "\n",
      "See the caveats in the documentation: http://pandas.pydata.org/pandas-docs/stable/indexing.html#indexing-view-versus-copy\n"
     ]
    },
    {
     "name": "stdout",
     "output_type": "stream",
     "text": [
      "18번째 완료되었습니다.\n",
      "-------------------------------------------------\n",
      "[1.13505950e+07 7.41605405e-01 2.44855480e-01 1.51319712e-01\n",
      " 2.65692589e-01 2.06425835e-02 4.39690043e-02 5.63182903e-03\n",
      " 6.66563156e-03 2.82857507e-03]\n",
      "[1.13505950e+07 7.74777220e-01 2.52688445e-01 1.46082402e-01\n",
      " 2.97659733e-01 2.16027375e-02 4.15437921e-02 5.56922055e-03\n",
      " 7.04400722e-03 2.58688273e-03]\n"
     ]
    },
    {
     "name": "stderr",
     "output_type": "stream",
     "text": [
      "C:\\Anaconda3\\lib\\site-packages\\ipykernel_launcher.py:67: SettingWithCopyWarning: \n",
      "A value is trying to be set on a copy of a slice from a DataFrame\n",
      "\n",
      "See the caveats in the documentation: http://pandas.pydata.org/pandas-docs/stable/indexing.html#indexing-view-versus-copy\n"
     ]
    },
    {
     "name": "stdout",
     "output_type": "stream",
     "text": [
      "19번째 완료되었습니다.\n",
      "-------------------------------------------------\n",
      "[1.13505950e+07 7.25909176e-01 2.43620411e-01 1.53840591e-01\n",
      " 2.48654046e-01 2.04530149e-02 4.51413297e-02 4.69361907e-03\n",
      " 6.62096776e-03 2.88519563e-03]\n",
      "[1.13505950e+07 7.53714721e-01 2.56385669e-01 1.53927655e-01\n",
      " 2.63928199e-01 2.11327192e-02 4.23558642e-02 6.92414773e-03\n",
      " 6.84179118e-03 2.21867624e-03]\n"
     ]
    },
    {
     "name": "stderr",
     "output_type": "stream",
     "text": [
      "C:\\Anaconda3\\lib\\site-packages\\ipykernel_launcher.py:67: SettingWithCopyWarning: \n",
      "A value is trying to be set on a copy of a slice from a DataFrame\n",
      "\n",
      "See the caveats in the documentation: http://pandas.pydata.org/pandas-docs/stable/indexing.html#indexing-view-versus-copy\n"
     ]
    },
    {
     "name": "stdout",
     "output_type": "stream",
     "text": [
      "20번째 완료되었습니다.\n",
      "-------------------------------------------------\n",
      "[1.13506000e+07 8.23417922e-01 2.66495836e-01 1.89584589e-01\n",
      " 2.87790929e-01 2.03089991e-02 4.28800637e-02 5.11649449e-03\n",
      " 7.52985935e-03 3.71115122e-03]\n",
      "[1.13506000e+07 8.45482077e-01 2.72606525e-01 1.90801088e-01\n",
      " 2.98404066e-01 2.15665509e-02 4.44767926e-02 5.77777341e-03\n",
      " 8.01520497e-03 3.83407609e-03]\n"
     ]
    },
    {
     "name": "stderr",
     "output_type": "stream",
     "text": [
      "C:\\Anaconda3\\lib\\site-packages\\ipykernel_launcher.py:67: SettingWithCopyWarning: \n",
      "A value is trying to be set on a copy of a slice from a DataFrame\n",
      "\n",
      "See the caveats in the documentation: http://pandas.pydata.org/pandas-docs/stable/indexing.html#indexing-view-versus-copy\n"
     ]
    },
    {
     "name": "stdout",
     "output_type": "stream",
     "text": [
      "21번째 완료되었습니다.\n",
      "-------------------------------------------------\n",
      "[1.13505800e+07 1.03421771e+00 2.89921101e-01 2.64478647e-01\n",
      " 3.88043364e-01 3.16535654e-02 4.35760262e-02 4.48800924e-03\n",
      " 6.78187852e-03 5.27511886e-03]\n",
      "[1.13505800e+07 1.03822199e+00 2.87453863e-01 2.60428824e-01\n",
      " 4.03556544e-01 2.59420395e-02 4.26239564e-02 5.58846368e-03\n",
      " 6.57725015e-03 6.05104569e-03]\n"
     ]
    },
    {
     "name": "stderr",
     "output_type": "stream",
     "text": [
      "C:\\Anaconda3\\lib\\site-packages\\ipykernel_launcher.py:67: SettingWithCopyWarning: \n",
      "A value is trying to be set on a copy of a slice from a DataFrame\n",
      "\n",
      "See the caveats in the documentation: http://pandas.pydata.org/pandas-docs/stable/indexing.html#indexing-view-versus-copy\n"
     ]
    },
    {
     "name": "stdout",
     "output_type": "stream",
     "text": [
      "22번째 완료되었습니다.\n",
      "-------------------------------------------------\n",
      "[1.13506250e+07 1.41179957e+00 4.61552796e-01 2.97120496e-01\n",
      " 5.42501032e-01 2.78733148e-02 5.63481814e-02 9.18311113e-03\n",
      " 1.19329257e-02 5.28771724e-03]\n",
      "[1.13506250e+07 1.47322633e+00 4.74691996e-01 2.97484931e-01\n",
      " 5.98377829e-01 2.20795596e-02 5.31001660e-02 1.01169659e-02\n",
      " 1.14324344e-02 5.94244526e-03]\n"
     ]
    },
    {
     "name": "stderr",
     "output_type": "stream",
     "text": [
      "C:\\Anaconda3\\lib\\site-packages\\ipykernel_launcher.py:67: SettingWithCopyWarning: \n",
      "A value is trying to be set on a copy of a slice from a DataFrame\n",
      "\n",
      "See the caveats in the documentation: http://pandas.pydata.org/pandas-docs/stable/indexing.html#indexing-view-versus-copy\n"
     ]
    },
    {
     "name": "stdout",
     "output_type": "stream",
     "text": [
      "23번째 완료되었습니다.\n",
      "-------------------------------------------------\n",
      "[1.13506400e+07 1.35682587e+00 4.43391939e-01 2.90117452e-01\n",
      " 4.70626140e-01 4.93577516e-02 8.10017485e-02 7.99781927e-03\n",
      " 1.00309253e-02 4.30209600e-03]\n",
      "[1.13506400e+07 1.45117450e+00 4.70762595e-01 2.82430443e-01\n",
      " 5.46710703e-01 4.79402031e-02 7.97606171e-02 8.29049350e-03\n",
      " 1.06340449e-02 4.64540194e-03]\n"
     ]
    },
    {
     "name": "stderr",
     "output_type": "stream",
     "text": [
      "C:\\Anaconda3\\lib\\site-packages\\ipykernel_launcher.py:67: SettingWithCopyWarning: \n",
      "A value is trying to be set on a copy of a slice from a DataFrame\n",
      "\n",
      "See the caveats in the documentation: http://pandas.pydata.org/pandas-docs/stable/indexing.html#indexing-view-versus-copy\n"
     ]
    },
    {
     "name": "stdout",
     "output_type": "stream",
     "text": [
      "24번째 완료되었습니다.\n",
      "-------------------------------------------------\n",
      "[1.13506700e+07 7.84333863e-01 2.91486117e-01 1.60657841e-01\n",
      " 2.66577194e-01 1.95653880e-02 3.11205446e-02 5.36727650e-03\n",
      " 5.38217352e-03 4.17732860e-03]\n",
      "[1.13506700e+07 8.39592315e-01 2.99380871e-01 1.60253034e-01\n",
      " 3.12594437e-01 2.12407733e-02 3.00905410e-02 5.67443184e-03\n",
      " 5.40408943e-03 4.95413688e-03]\n"
     ]
    },
    {
     "name": "stderr",
     "output_type": "stream",
     "text": [
      "C:\\Anaconda3\\lib\\site-packages\\ipykernel_launcher.py:67: SettingWithCopyWarning: \n",
      "A value is trying to be set on a copy of a slice from a DataFrame\n",
      "\n",
      "See the caveats in the documentation: http://pandas.pydata.org/pandas-docs/stable/indexing.html#indexing-view-versus-copy\n"
     ]
    },
    {
     "name": "stdout",
     "output_type": "stream",
     "text": [
      "25번째 완료되었습니다.\n",
      "-------------------------------------------------\n",
      "[1.13506950e+07 1.03192078e+00 2.98883343e-01 2.47520225e-01\n",
      " 3.68551751e-01 4.45788926e-02 5.37587837e-02 5.81674388e-03\n",
      " 7.21148268e-03 5.59956109e-03]\n",
      "[1.13506950e+07 1.08675128e+00 3.14722502e-01 2.41627880e-01\n",
      " 4.07901766e-01 5.16106985e-02 5.21916196e-02 5.84226666e-03\n",
      " 6.70573132e-03 6.14881869e-03]\n"
     ]
    },
    {
     "name": "stderr",
     "output_type": "stream",
     "text": [
      "C:\\Anaconda3\\lib\\site-packages\\ipykernel_launcher.py:67: SettingWithCopyWarning: \n",
      "A value is trying to be set on a copy of a slice from a DataFrame\n",
      "\n",
      "See the caveats in the documentation: http://pandas.pydata.org/pandas-docs/stable/indexing.html#indexing-view-versus-copy\n"
     ]
    },
    {
     "name": "stdout",
     "output_type": "stream",
     "text": [
      "26번째 완료되었습니다.\n",
      "-------------------------------------------------\n",
      "[1.11106150e+07 1.54622015e+00 4.37929838e-01 3.01984822e-01\n",
      " 5.96411364e-01 4.03275372e-02 1.38804083e-01 6.07996310e-03\n",
      " 2.13337709e-02 3.34877459e-03]\n",
      "[1.11106150e+07 1.83421466e+00 5.21928891e-01 3.37490314e-01\n",
      " 7.55172045e-01 4.61925340e-02 1.40463461e-01 6.83559627e-03\n",
      " 2.30065148e-02 3.12530106e-03]\n"
     ]
    },
    {
     "name": "stderr",
     "output_type": "stream",
     "text": [
      "C:\\Anaconda3\\lib\\site-packages\\ipykernel_launcher.py:67: SettingWithCopyWarning: \n",
      "A value is trying to be set on a copy of a slice from a DataFrame\n",
      "\n",
      "See the caveats in the documentation: http://pandas.pydata.org/pandas-docs/stable/indexing.html#indexing-view-versus-copy\n"
     ]
    },
    {
     "name": "stdout",
     "output_type": "stream",
     "text": [
      "27번째 완료되었습니다.\n",
      "-------------------------------------------------\n",
      "[1.13506650e+07 8.47517594e-01 3.63022576e-01 1.63147312e-01\n",
      " 2.52680064e-01 1.85054193e-02 3.19761676e-02 8.00217994e-03\n",
      " 7.21636564e-03 2.96750943e-03]\n",
      "[1.13506650e+07 9.52584325e-01 4.09717582e-01 1.74935838e-01\n",
      " 2.89559993e-01 2.18982419e-02 3.34134654e-02 9.52679256e-03\n",
      " 8.78126145e-03 4.75115021e-03]\n"
     ]
    },
    {
     "name": "stderr",
     "output_type": "stream",
     "text": [
      "C:\\Anaconda3\\lib\\site-packages\\ipykernel_launcher.py:67: SettingWithCopyWarning: \n",
      "A value is trying to be set on a copy of a slice from a DataFrame\n",
      "\n",
      "See the caveats in the documentation: http://pandas.pydata.org/pandas-docs/stable/indexing.html#indexing-view-versus-copy\n"
     ]
    },
    {
     "name": "stdout",
     "output_type": "stream",
     "text": [
      "28번째 완료되었습니다.\n",
      "-------------------------------------------------\n",
      "[1.11106700e+07 9.33547768e-01 3.36515672e-01 1.89148687e-01\n",
      " 3.13140369e-01 1.32141117e-02 6.05782262e-02 9.34724615e-03\n",
      " 1.04707412e-02 1.13271425e-03]\n",
      "[1.11106700e+07 9.06092145e-01 3.44871512e-01 1.62181190e-01\n",
      " 3.15219151e-01 1.33246392e-02 4.99346043e-02 6.98158863e-03\n",
      " 1.20501462e-02 1.52931349e-03]\n"
     ]
    },
    {
     "name": "stderr",
     "output_type": "stream",
     "text": [
      "C:\\Anaconda3\\lib\\site-packages\\ipykernel_launcher.py:67: SettingWithCopyWarning: \n",
      "A value is trying to be set on a copy of a slice from a DataFrame\n",
      "\n",
      "See the caveats in the documentation: http://pandas.pydata.org/pandas-docs/stable/indexing.html#indexing-view-versus-copy\n"
     ]
    },
    {
     "name": "stdout",
     "output_type": "stream",
     "text": [
      "29번째 완료되었습니다.\n",
      "-------------------------------------------------\n",
      "[1.11105500e+07 1.25660132e+00 4.98782040e-01 2.76590925e-01\n",
      " 3.68726541e-01 3.44483638e-02 5.48794133e-02 7.84669951e-03\n",
      " 1.25291958e-02 2.79814283e-03]\n",
      "[1.11105500e+07 1.52037311e+00 6.12000929e-01 3.18374027e-01\n",
      " 4.61863063e-01 4.03790406e-02 6.14276564e-02 7.72917747e-03\n",
      " 1.52321964e-02 3.36701607e-03]\n"
     ]
    },
    {
     "name": "stderr",
     "output_type": "stream",
     "text": [
      "C:\\Anaconda3\\lib\\site-packages\\ipykernel_launcher.py:67: SettingWithCopyWarning: \n",
      "A value is trying to be set on a copy of a slice from a DataFrame\n",
      "\n",
      "See the caveats in the documentation: http://pandas.pydata.org/pandas-docs/stable/indexing.html#indexing-view-versus-copy\n"
     ]
    },
    {
     "name": "stdout",
     "output_type": "stream",
     "text": [
      "30번째 완료되었습니다.\n",
      "-------------------------------------------------\n",
      "[1.11105300e+07 1.32975349e+00 3.42741274e-01 3.10072766e-01\n",
      " 4.94998227e-01 2.58332621e-02 1.23886191e-01 7.40718450e-03\n",
      " 1.70244625e-02 7.79012702e-03]\n",
      "[1.11105300e+07 1.47827957e+00 4.02716388e-01 3.17094734e-01\n",
      " 5.85275943e-01 2.29213300e-02 1.19675544e-01 6.11974191e-03\n",
      " 1.80319761e-02 6.44390906e-03]\n"
     ]
    },
    {
     "name": "stderr",
     "output_type": "stream",
     "text": [
      "C:\\Anaconda3\\lib\\site-packages\\ipykernel_launcher.py:67: SettingWithCopyWarning: \n",
      "A value is trying to be set on a copy of a slice from a DataFrame\n",
      "\n",
      "See the caveats in the documentation: http://pandas.pydata.org/pandas-docs/stable/indexing.html#indexing-view-versus-copy\n"
     ]
    },
    {
     "name": "stdout",
     "output_type": "stream",
     "text": [
      "31번째 완료되었습니다.\n",
      "-------------------------------------------------\n",
      "[1.11106150e+07 1.55852950e+00 4.39997633e-01 3.05228038e-01\n",
      " 6.03175071e-01 4.02000973e-02 1.38971325e-01 6.05696181e-03\n",
      " 2.15586395e-02 3.34173824e-03]\n",
      "[1.11106150e+07 1.82038804e+00 5.19685967e-01 3.33893236e-01\n",
      " 7.47353445e-01 4.64371865e-02 1.40203442e-01 6.86687436e-03\n",
      " 2.28186581e-02 3.12923118e-03]\n"
     ]
    },
    {
     "name": "stderr",
     "output_type": "stream",
     "text": [
      "C:\\Anaconda3\\lib\\site-packages\\ipykernel_launcher.py:67: SettingWithCopyWarning: \n",
      "A value is trying to be set on a copy of a slice from a DataFrame\n",
      "\n",
      "See the caveats in the documentation: http://pandas.pydata.org/pandas-docs/stable/indexing.html#indexing-view-versus-copy\n"
     ]
    },
    {
     "name": "stdout",
     "output_type": "stream",
     "text": [
      "32번째 완료되었습니다.\n",
      "-------------------------------------------------\n",
      "[1.11106700e+07 9.77428556e-01 3.40375531e-01 1.92440345e-01\n",
      " 3.51254046e-01 1.37478942e-02 5.84507210e-02 7.91700441e-03\n",
      " 1.20650440e-02 1.17797045e-03]\n",
      "[1.11106700e+07 1.00187861e+00 3.68376882e-01 1.68610012e-01\n",
      " 3.77507960e-01 1.38694524e-02 5.27349510e-02 6.50652504e-03\n",
      " 1.27661626e-02 1.50666445e-03]\n"
     ]
    },
    {
     "name": "stderr",
     "output_type": "stream",
     "text": [
      "C:\\Anaconda3\\lib\\site-packages\\ipykernel_launcher.py:67: SettingWithCopyWarning: \n",
      "A value is trying to be set on a copy of a slice from a DataFrame\n",
      "\n",
      "See the caveats in the documentation: http://pandas.pydata.org/pandas-docs/stable/indexing.html#indexing-view-versus-copy\n"
     ]
    },
    {
     "name": "stdout",
     "output_type": "stream",
     "text": [
      "33번째 완료되었습니다.\n",
      "-------------------------------------------------\n",
      "[1.13505600e+07 8.89903604e-01 3.12635612e-01 1.80029741e-01\n",
      " 3.14558698e-01 2.70587390e-02 4.26959403e-02 4.00686847e-03\n",
      " 6.51345906e-03 2.40454668e-03]\n",
      "[1.13505600e+07 9.38698840e-01 3.28463233e-01 1.79745386e-01\n",
      " 3.47333211e-01 2.79451555e-02 4.23896002e-02 3.84726332e-03\n",
      " 6.49583528e-03 2.47915587e-03]\n"
     ]
    },
    {
     "name": "stderr",
     "output_type": "stream",
     "text": [
      "C:\\Anaconda3\\lib\\site-packages\\ipykernel_launcher.py:67: SettingWithCopyWarning: \n",
      "A value is trying to be set on a copy of a slice from a DataFrame\n",
      "\n",
      "See the caveats in the documentation: http://pandas.pydata.org/pandas-docs/stable/indexing.html#indexing-view-versus-copy\n"
     ]
    },
    {
     "name": "stdout",
     "output_type": "stream",
     "text": [
      "34번째 완료되었습니다.\n",
      "-------------------------------------------------\n",
      "[1.11106900e+07 4.60158814e-01 8.66143674e-02 1.15413987e-01\n",
      " 2.18475824e-01 3.14498235e-03 2.94594913e-02 2.83443812e-03\n",
      " 3.53588556e-03 6.79837780e-04]\n",
      "[1.11106900e+07 5.78467316e-01 1.19785032e-01 1.43688077e-01\n",
      " 2.71421227e-01 3.33285561e-03 3.21899728e-02 3.72152510e-03\n",
      " 3.45465151e-03 8.73973788e-04]\n"
     ]
    },
    {
     "name": "stderr",
     "output_type": "stream",
     "text": [
      "C:\\Anaconda3\\lib\\site-packages\\ipykernel_launcher.py:67: SettingWithCopyWarning: \n",
      "A value is trying to be set on a copy of a slice from a DataFrame\n",
      "\n",
      "See the caveats in the documentation: http://pandas.pydata.org/pandas-docs/stable/indexing.html#indexing-view-versus-copy\n"
     ]
    },
    {
     "name": "stdout",
     "output_type": "stream",
     "text": [
      "35번째 완료되었습니다.\n",
      "-------------------------------------------------\n",
      "[1.11105150e+07 7.06977028e-01 2.16698150e-01 1.78594397e-01\n",
      " 2.46230849e-01 1.71660333e-02 3.66455984e-02 3.63933899e-03\n",
      " 5.54557420e-03 2.45708826e-03]\n",
      "[1.11105150e+07 7.47410071e-01 2.33011312e-01 1.76493344e-01\n",
      " 2.78013535e-01 1.71448574e-02 2.98512620e-02 4.10558828e-03\n",
      " 5.88333231e-03 2.90683966e-03]\n"
     ]
    },
    {
     "name": "stderr",
     "output_type": "stream",
     "text": [
      "C:\\Anaconda3\\lib\\site-packages\\ipykernel_launcher.py:67: SettingWithCopyWarning: \n",
      "A value is trying to be set on a copy of a slice from a DataFrame\n",
      "\n",
      "See the caveats in the documentation: http://pandas.pydata.org/pandas-docs/stable/indexing.html#indexing-view-versus-copy\n"
     ]
    },
    {
     "name": "stdout",
     "output_type": "stream",
     "text": [
      "36번째 완료되었습니다.\n",
      "-------------------------------------------------\n",
      "[1.11105600e+07 8.96980535e-01 3.51599517e-01 1.91509775e-01\n",
      " 2.59149366e-01 3.64483783e-02 4.12911547e-02 6.67681474e-03\n",
      " 8.48687506e-03 1.81865555e-03]\n",
      "[1.11105600e+07 9.58292716e-01 3.63740529e-01 2.08553177e-01\n",
      " 2.92276738e-01 3.67774641e-02 3.98265066e-02 6.68229409e-03\n",
      " 8.19662787e-03 2.23937937e-03]\n"
     ]
    },
    {
     "name": "stderr",
     "output_type": "stream",
     "text": [
      "C:\\Anaconda3\\lib\\site-packages\\ipykernel_launcher.py:67: SettingWithCopyWarning: \n",
      "A value is trying to be set on a copy of a slice from a DataFrame\n",
      "\n",
      "See the caveats in the documentation: http://pandas.pydata.org/pandas-docs/stable/indexing.html#indexing-view-versus-copy\n"
     ]
    },
    {
     "name": "stdout",
     "output_type": "stream",
     "text": [
      "37번째 완료되었습니다.\n",
      "-------------------------------------------------\n",
      "[1.11106500e+07 1.12945537e+00 3.47855207e-01 2.08906394e-01\n",
      " 4.16952983e-01 4.02458225e-02 8.82186020e-02 7.03778999e-03\n",
      " 1.86695390e-02 1.56903600e-03]\n",
      "[1.11106500e+07 1.11933470e+00 3.59287710e-01 2.01330868e-01\n",
      " 4.12300187e-01 4.06212228e-02 7.84208206e-02 6.82097729e-03\n",
      " 1.88161828e-02 1.73673322e-03]\n"
     ]
    },
    {
     "name": "stderr",
     "output_type": "stream",
     "text": [
      "C:\\Anaconda3\\lib\\site-packages\\ipykernel_launcher.py:67: SettingWithCopyWarning: \n",
      "A value is trying to be set on a copy of a slice from a DataFrame\n",
      "\n",
      "See the caveats in the documentation: http://pandas.pydata.org/pandas-docs/stable/indexing.html#indexing-view-versus-copy\n"
     ]
    },
    {
     "name": "stdout",
     "output_type": "stream",
     "text": [
      "38번째 완료되었습니다.\n",
      "-------------------------------------------------\n",
      "[1.11106000e+07 1.08843466e+00 3.28161717e-01 2.21344360e-01\n",
      " 3.78567669e-01 3.21058131e-02 9.28771372e-02 6.88656970e-03\n",
      " 2.47777671e-02 3.71362331e-03]\n",
      "[1.11106000e+07 1.14472987e+00 3.30175650e-01 2.23098175e-01\n",
      " 4.29142186e-01 3.78501322e-02 8.63529408e-02 7.15524995e-03\n",
      " 2.72594941e-02 3.69604142e-03]\n"
     ]
    },
    {
     "name": "stderr",
     "output_type": "stream",
     "text": [
      "C:\\Anaconda3\\lib\\site-packages\\ipykernel_launcher.py:67: SettingWithCopyWarning: \n",
      "A value is trying to be set on a copy of a slice from a DataFrame\n",
      "\n",
      "See the caveats in the documentation: http://pandas.pydata.org/pandas-docs/stable/indexing.html#indexing-view-versus-copy\n"
     ]
    },
    {
     "name": "stdout",
     "output_type": "stream",
     "text": [
      "39번째 완료되었습니다.\n",
      "-------------------------------------------------\n",
      "[1.11106300e+07 8.35526045e-01 2.25179880e-01 1.50993662e-01\n",
      " 3.63975431e-01 2.43271249e-02 5.43764208e-02 3.47682353e-03\n",
      " 1.13987019e-02 1.79800071e-03]\n",
      "[1.11106300e+07 9.83520200e-01 2.69537388e-01 1.60934208e-01\n",
      " 4.54263184e-01 2.65765642e-02 5.47531463e-02 3.55346922e-03\n",
      " 1.28505951e-02 1.05164602e-03]\n"
     ]
    },
    {
     "name": "stderr",
     "output_type": "stream",
     "text": [
      "C:\\Anaconda3\\lib\\site-packages\\ipykernel_launcher.py:67: SettingWithCopyWarning: \n",
      "A value is trying to be set on a copy of a slice from a DataFrame\n",
      "\n",
      "See the caveats in the documentation: http://pandas.pydata.org/pandas-docs/stable/indexing.html#indexing-view-versus-copy\n"
     ]
    },
    {
     "name": "stdout",
     "output_type": "stream",
     "text": [
      "40번째 완료되었습니다.\n",
      "-------------------------------------------------\n",
      "[1.11106500e+07 1.05240263e+00 3.39479040e-01 1.96966204e-01\n",
      " 3.67151259e-01 4.03259804e-02 8.30080357e-02 6.66101578e-03\n",
      " 1.72460236e-02 1.56507122e-03]\n",
      "[1.11106500e+07 1.12144943e+00 3.72838512e-01 2.04164277e-01\n",
      " 4.00876983e-01 4.04276385e-02 7.60669799e-02 7.01044923e-03\n",
      " 1.84799475e-02 1.58464547e-03]\n"
     ]
    },
    {
     "name": "stderr",
     "output_type": "stream",
     "text": [
      "C:\\Anaconda3\\lib\\site-packages\\ipykernel_launcher.py:67: SettingWithCopyWarning: \n",
      "A value is trying to be set on a copy of a slice from a DataFrame\n",
      "\n",
      "See the caveats in the documentation: http://pandas.pydata.org/pandas-docs/stable/indexing.html#indexing-view-versus-copy\n"
     ]
    },
    {
     "name": "stdout",
     "output_type": "stream",
     "text": [
      "41번째 완료되었습니다.\n",
      "-------------------------------------------------\n",
      "[1.13506000e+07 8.90297632e-01 2.78435807e-01 2.07921189e-01\n",
      " 3.13146157e-01 2.05968730e-02 5.04475018e-02 6.45867821e-03\n",
      " 8.86451990e-03 4.42690504e-03]\n",
      "[1.13506000e+07 8.74261378e-01 2.75950423e-01 1.99549800e-01\n",
      " 3.09902403e-01 2.04750053e-02 4.77057684e-02 6.76183984e-03\n",
      " 9.20423342e-03 4.71190487e-03]\n"
     ]
    },
    {
     "name": "stderr",
     "output_type": "stream",
     "text": [
      "C:\\Anaconda3\\lib\\site-packages\\ipykernel_launcher.py:67: SettingWithCopyWarning: \n",
      "A value is trying to be set on a copy of a slice from a DataFrame\n",
      "\n",
      "See the caveats in the documentation: http://pandas.pydata.org/pandas-docs/stable/indexing.html#indexing-view-versus-copy\n"
     ]
    },
    {
     "name": "stdout",
     "output_type": "stream",
     "text": [
      "42번째 완료되었습니다.\n",
      "-------------------------------------------------\n",
      "[1.11106400e+07 1.26232182e+00 3.14007204e-01 2.45559254e-01\n",
      " 4.90524530e-01 5.34973448e-02 1.26129816e-01 5.89229172e-03\n",
      " 2.08123873e-02 5.89899138e-03]\n",
      "[1.11106400e+07 1.24756775e+00 3.50226605e-01 2.25471061e-01\n",
      " 4.90842478e-01 5.18870555e-02 9.90491712e-02 5.22058033e-03\n",
      " 2.09381517e-02 3.93264607e-03]\n"
     ]
    },
    {
     "name": "stderr",
     "output_type": "stream",
     "text": [
      "C:\\Anaconda3\\lib\\site-packages\\ipykernel_launcher.py:67: SettingWithCopyWarning: \n",
      "A value is trying to be set on a copy of a slice from a DataFrame\n",
      "\n",
      "See the caveats in the documentation: http://pandas.pydata.org/pandas-docs/stable/indexing.html#indexing-view-versus-copy\n"
     ]
    },
    {
     "name": "stdout",
     "output_type": "stream",
     "text": [
      "43번째 완료되었습니다.\n",
      "-------------------------------------------------\n",
      "[1.11106150e+07 1.54359829e+00 4.41864466e-01 3.01462647e-01\n",
      " 5.90684271e-01 4.06023571e-02 1.38422579e-01 6.05664538e-03\n",
      " 2.11891976e-02 3.31612556e-03]\n",
      "[1.11106150e+07 1.83556216e+00 5.17626941e-01 3.37619028e-01\n",
      " 7.60105698e-01 4.60500108e-02 1.40955196e-01 6.85629820e-03\n",
      " 2.31967803e-02 3.15221020e-03]\n"
     ]
    },
    {
     "name": "stderr",
     "output_type": "stream",
     "text": [
      "C:\\Anaconda3\\lib\\site-packages\\ipykernel_launcher.py:67: SettingWithCopyWarning: \n",
      "A value is trying to be set on a copy of a slice from a DataFrame\n",
      "\n",
      "See the caveats in the documentation: http://pandas.pydata.org/pandas-docs/stable/indexing.html#indexing-view-versus-copy\n"
     ]
    },
    {
     "name": "stdout",
     "output_type": "stream",
     "text": [
      "44번째 완료되었습니다.\n",
      "-------------------------------------------------\n",
      "[1.11106000e+07 1.14077943e+00 2.99743889e-01 2.30452066e-01\n",
      " 4.47226713e-01 3.00172406e-02 9.49038726e-02 5.91489116e-03\n",
      " 2.74507145e-02 5.07004429e-03]\n",
      "[1.11106000e+07 1.19344591e+00 3.16173215e-01 2.35168368e-01\n",
      " 4.64010055e-01 3.63489411e-02 1.01288400e-01 7.11978842e-03\n",
      " 2.90052718e-02 4.33187349e-03]\n"
     ]
    },
    {
     "name": "stderr",
     "output_type": "stream",
     "text": [
      "C:\\Anaconda3\\lib\\site-packages\\ipykernel_launcher.py:67: SettingWithCopyWarning: \n",
      "A value is trying to be set on a copy of a slice from a DataFrame\n",
      "\n",
      "See the caveats in the documentation: http://pandas.pydata.org/pandas-docs/stable/indexing.html#indexing-view-versus-copy\n"
     ]
    },
    {
     "name": "stdout",
     "output_type": "stream",
     "text": [
      "45번째 완료되었습니다.\n",
      "-------------------------------------------------\n",
      "[1.11106000e+07 1.08956841e+00 3.26497111e-01 2.21692239e-01\n",
      " 3.81285981e-01 3.21608585e-02 9.21434098e-02 6.99057006e-03\n",
      " 2.52948381e-02 3.50340671e-03]\n",
      "[1.11106000e+07 1.13634143e+00 3.24013498e-01 2.21088553e-01\n",
      " 4.26334975e-01 3.73782353e-02 8.92095811e-02 6.97878787e-03\n",
      " 2.74339316e-02 3.90386583e-03]\n"
     ]
    },
    {
     "name": "stderr",
     "output_type": "stream",
     "text": [
      "C:\\Anaconda3\\lib\\site-packages\\ipykernel_launcher.py:67: SettingWithCopyWarning: \n",
      "A value is trying to be set on a copy of a slice from a DataFrame\n",
      "\n",
      "See the caveats in the documentation: http://pandas.pydata.org/pandas-docs/stable/indexing.html#indexing-view-versus-copy\n"
     ]
    },
    {
     "name": "stdout",
     "output_type": "stream",
     "text": [
      "46번째 완료되었습니다.\n",
      "-------------------------------------------------\n",
      "[1.11106150e+07 1.55304137e+00 4.41378821e-01 3.02282192e-01\n",
      " 5.98068373e-01 4.04103859e-02 1.40231717e-01 5.98581070e-03\n",
      " 2.13674548e-02 3.31661927e-03]\n",
      "[1.11106150e+07 1.82584481e+00 5.18312671e-01 3.36822248e-01\n",
      " 7.52430962e-01 4.62280995e-02 1.38950252e-01 6.93761890e-03\n",
      " 2.30087503e-02 3.15420662e-03]\n"
     ]
    },
    {
     "name": "stderr",
     "output_type": "stream",
     "text": [
      "C:\\Anaconda3\\lib\\site-packages\\ipykernel_launcher.py:67: SettingWithCopyWarning: \n",
      "A value is trying to be set on a copy of a slice from a DataFrame\n",
      "\n",
      "See the caveats in the documentation: http://pandas.pydata.org/pandas-docs/stable/indexing.html#indexing-view-versus-copy\n"
     ]
    },
    {
     "name": "stdout",
     "output_type": "stream",
     "text": [
      "47번째 완료되었습니다.\n",
      "-------------------------------------------------\n",
      "[1.11107100e+07 1.17314536e+00 3.60217226e-01 2.19563359e-01\n",
      " 4.41858567e-01 5.08852937e-02 7.64988240e-02 8.33378879e-03\n",
      " 1.35670538e-02 2.22125233e-03]\n",
      "[1.11107100e+07 1.15669375e+00 3.70777009e-01 2.00472118e-01\n",
      " 4.33743707e-01 5.67552324e-02 6.99177539e-02 9.03207080e-03\n",
      " 1.42919347e-02 1.70392347e-03]\n"
     ]
    },
    {
     "name": "stderr",
     "output_type": "stream",
     "text": [
      "C:\\Anaconda3\\lib\\site-packages\\ipykernel_launcher.py:67: SettingWithCopyWarning: \n",
      "A value is trying to be set on a copy of a slice from a DataFrame\n",
      "\n",
      "See the caveats in the documentation: http://pandas.pydata.org/pandas-docs/stable/indexing.html#indexing-view-versus-copy\n"
     ]
    },
    {
     "name": "stdout",
     "output_type": "stream",
     "text": [
      "48번째 완료되었습니다.\n",
      "-------------------------------------------------\n",
      "[1.11106150e+07 1.55082431e+00 4.39955970e-01 3.00944141e-01\n",
      " 5.98175825e-01 4.04895772e-02 1.40387610e-01 6.06659277e-03\n",
      " 2.14319070e-02 3.37268248e-03]\n",
      "[1.11106150e+07 1.82804921e+00 5.19727392e-01 3.38152653e-01\n",
      " 7.52324124e-01 4.61493608e-02 1.38795250e-01 6.85729844e-03\n",
      " 2.29446664e-02 3.09846377e-03]\n"
     ]
    },
    {
     "name": "stderr",
     "output_type": "stream",
     "text": [
      "C:\\Anaconda3\\lib\\site-packages\\ipykernel_launcher.py:67: SettingWithCopyWarning: \n",
      "A value is trying to be set on a copy of a slice from a DataFrame\n",
      "\n",
      "See the caveats in the documentation: http://pandas.pydata.org/pandas-docs/stable/indexing.html#indexing-view-versus-copy\n"
     ]
    },
    {
     "name": "stdout",
     "output_type": "stream",
     "text": [
      "49번째 완료되었습니다.\n",
      "-------------------------------------------------\n",
      "[1.13506190e+07 1.09936587e+00 3.40788643e-01 2.67133250e-01\n",
      " 4.03948282e-01 2.24005674e-02 4.45687770e-02 6.98782079e-03\n",
      " 8.35085019e-03 5.18767747e-03]\n",
      "[1.13506190e+07 1.14898277e+00 3.49406143e-01 2.86966461e-01\n",
      " 4.26801166e-01 2.22127849e-02 4.31551510e-02 6.26278107e-03\n",
      " 8.64847198e-03 5.52980730e-03]\n"
     ]
    },
    {
     "name": "stderr",
     "output_type": "stream",
     "text": [
      "C:\\Anaconda3\\lib\\site-packages\\ipykernel_launcher.py:67: SettingWithCopyWarning: \n",
      "A value is trying to be set on a copy of a slice from a DataFrame\n",
      "\n",
      "See the caveats in the documentation: http://pandas.pydata.org/pandas-docs/stable/indexing.html#indexing-view-versus-copy\n"
     ]
    },
    {
     "name": "stdout",
     "output_type": "stream",
     "text": [
      "50번째 완료되었습니다.\n",
      "-------------------------------------------------\n",
      "\n"
     ]
    }
   ],
   "source": [
    "# for문 진행상황 확인\n",
    "from tqdm import tqdm_notebook\n",
    "\n",
    "for i in tqdm_notebook(range(len(filenames2))) :\n",
    "    f = filenames2[i]\n",
    "    \n",
    "    # 카테고리별 유통 매출비중 데이터 가져오기\n",
    "    retail = pd.read_excel('../data/catretail.xlsx')\n",
    "    \n",
    "    # NaN값 0으로 채우기\n",
    "    retail = retail.fillna(0)\n",
    "\n",
    "    # 이후 계산 작업 위해 데이터 타입 str로\n",
    "    cc = list(retail['OPER_DT'])\n",
    "    cc = [str(c) for c in cc]\n",
    "    retail['OPER_DT'] = cc\n",
    "    \n",
    "    qq = f[22:-4]\n",
    "    ttt = dic[qq]\n",
    "    retail = retail[retail['ADMD_CD']== ttt]\n",
    "    \n",
    "    # 인덱스 초기화\n",
    "    retail = retail.reset_index(drop=True)\n",
    "    \n",
    "    # 컬럼명 변경\n",
    "    retail = retail.rename(columns = {'OPER_DT': 'Date'})  \n",
    "    \n",
    "    # 각 카테고리별 비중에 매출지수 곱하고 열값 변경하기\n",
    "    retail['LCLS_10_P'] = retail['AMT_IND'] * retail['LCLS_10_P']\n",
    "    retail['LCLS_20_P'] = retail['AMT_IND'] * retail['LCLS_20_P']\n",
    "    retail['LCLS_30_P'] = retail['AMT_IND'] * retail['LCLS_30_P']\n",
    "    retail['LCLS_40_P'] = retail['AMT_IND'] * retail['LCLS_40_P']\n",
    "    retail['LCLS_50_P'] = retail['AMT_IND'] * retail['LCLS_50_P']\n",
    "    retail['LCLS_60_P'] = retail['AMT_IND'] * retail['LCLS_60_P']\n",
    "    retail['LCLS_70_P'] = retail['AMT_IND'] * retail['LCLS_70_P']\n",
    "    retail['LCLS_80_P'] = retail['AMT_IND'] * retail['LCLS_80_P']\n",
    "\n",
    "    # -1을 곱한 딥인덱스 포함한 종합 데이터 가져오기\n",
    "    deep = pd.read_csv(f)\n",
    "    \n",
    "    # 이후 계산 작업 위해 데이터 타입 str로\n",
    "    dlist = list(deep['Date'])\n",
    "    dlist = [str(d) for d in dlist]\n",
    "    deep['Date'] = dlist\n",
    "    \n",
    "    # 종합 데이터와 유통 데이터 날짜 기준 결합\n",
    "    results = retail.merge(deep, on='Date', how='outer')\n",
    "    \n",
    "    # 결측치 제거\n",
    "    results = results.dropna()\n",
    "    \n",
    "    # Deepindex 기준으로 내림차순 정렬\n",
    "    results = results.sort_values(['Deepindex'], ascending=[False])\n",
    "    \n",
    "    # 인덱스 초기화\n",
    "    results = results.reset_index(drop=True)\n",
    "    results = results[['ADMD_CD', 'AMT_IND','LCLS_10_P','LCLS_20_P','LCLS_30_P','LCLS_40_P','LCLS_50_P','LCLS_60_P','LCLS_70_P','LCLS_80_P']]\n",
    "\n",
    "    # 상위 50% / 하위 50% 나누기 위해 개수 측정\n",
    "    bbb = len(results)//2\n",
    "    \n",
    "    # 상위 50%\n",
    "    abc1 = results[:bbb]\n",
    "    \n",
    "    # 하위 50%\n",
    "    abc2 = results[bbb:]\n",
    "    \n",
    "    # 새로운 데이터프레임 열로 쓰기 위해 리스트로 만들기\n",
    "    yy =list(abc2.columns)\n",
    "    \n",
    "    # 상위 50%, 하위 50%의 열별 평균을 각각 array 형태로 만들기\n",
    "    a = np.array(abc1.mean())\n",
    "    b = np.array(abc2.mean())\n",
    "    print(a)\n",
    "    print(b)\n",
    "    \n",
    "    # 증감률 계산 : (상위 - 하위) / 상위 * 100\n",
    "    c = (a - b) / b * 100\n",
    "\n",
    "    \n",
    "   \n",
    "    if i == 0 :       \n",
    "        \n",
    "        # 이전의 리스트를 열로 하는 새로운 데이터프레임 생성\n",
    "        new = pd.DataFrame(columns=yy)\n",
    "        \n",
    "        # 증감률 계산한 리스트를 행으로\n",
    "        new.loc[i] = list(c)\n",
    "        new['ADMD_CD'][i] = qq\n",
    "        new.to_csv('../data/deeptotaldong.csv', index = False)\n",
    "        \n",
    "        print('1번째 완료되었습니다.')\n",
    "        print('------------------------------------------------')\n",
    "        \n",
    "        \n",
    "    else :\n",
    "        \n",
    "        new2 = pd.read_csv('../data/deeptotaldong.csv')\n",
    "        \n",
    "        # 증감률 계산한 리스트를 행으로 누적해서 추가\n",
    "        new2.loc[i] = list(c)\n",
    "        new2['ADMD_CD'][i] = qq\n",
    "        new2.to_csv('../data/deeptotaldong.csv', index = False)\n",
    "        \n",
    "\n",
    "        print(str(i+1)+'번째 완료되었습니다.')\n",
    "        print('-------------------------------------------------')\n",
    "        \n"
   ]
  },
  {
   "cell_type": "code",
   "execution_count": null,
   "metadata": {},
   "outputs": [],
   "source": []
  }
 ],
 "metadata": {
  "kernelspec": {
   "display_name": "Python 3",
   "language": "python",
   "name": "python3"
  },
  "language_info": {
   "codemirror_mode": {
    "name": "ipython",
    "version": 3
   },
   "file_extension": ".py",
   "mimetype": "text/x-python",
   "name": "python",
   "nbconvert_exporter": "python",
   "pygments_lexer": "ipython3",
   "version": "3.7.3"
  }
 },
 "nbformat": 4,
 "nbformat_minor": 2
}
