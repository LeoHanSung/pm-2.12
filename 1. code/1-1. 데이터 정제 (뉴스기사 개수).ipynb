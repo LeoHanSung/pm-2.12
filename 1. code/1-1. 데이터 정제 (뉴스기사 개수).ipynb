{
 "cells": [
  {
   "cell_type": "markdown",
   "metadata": {},
   "source": [
    "# SNS 데이터 각각의 일자별 뉴스기사 개수 구하기"
   ]
  },
  {
   "cell_type": "code",
   "execution_count": 1,
   "metadata": {},
   "outputs": [],
   "source": [
    "# 제공된 SNS 데이터 파일 불러오기\n",
    "\n",
    "import glob\n",
    "import os\n",
    "import pandas as pd\n",
    "from konlpy.tag import Okt\n",
    "\n",
    "okt = Okt()\n",
    "os.getcwd()\n",
    "\n",
    "filenames = glob.glob('../data/SNS/*.xlsx')"
   ]
  },
  {
   "cell_type": "code",
   "execution_count": 2,
   "metadata": {},
   "outputs": [
    {
     "data": {
      "text/plain": [
       "['../data/SNS\\\\SNS_1.xlsx',\n",
       " '../data/SNS\\\\SNS_2.xlsx',\n",
       " '../data/SNS\\\\SNS_3.xlsx',\n",
       " '../data/SNS\\\\SNS_4.xlsx',\n",
       " '../data/SNS\\\\SNS_5.xlsx',\n",
       " '../data/SNS\\\\SNS_6.xlsx',\n",
       " '../data/SNS\\\\SNS_7.xlsx',\n",
       " '../data/SNS\\\\SNS_8.xlsx']"
      ]
     },
     "execution_count": 2,
     "metadata": {},
     "output_type": "execute_result"
    }
   ],
   "source": [
    "# SNS 데이터 파일 리스트로\n",
    "filenames"
   ]
  },
  {
   "cell_type": "code",
   "execution_count": 3,
   "metadata": {
    "scrolled": true
   },
   "outputs": [
    {
     "name": "stdout",
     "output_type": "stream",
     "text": [
      "1번째 파일 완료\n",
      "-------------------------------------\n"
     ]
    },
    {
     "name": "stderr",
     "output_type": "stream",
     "text": [
      "C:\\Anaconda3\\lib\\site-packages\\ipykernel_launcher.py:43: SettingWithCopyWarning: \n",
      "A value is trying to be set on a copy of a slice from a DataFrame.\n",
      "Try using .loc[row_indexer,col_indexer] = value instead\n",
      "\n",
      "See the caveats in the documentation: http://pandas.pydata.org/pandas-docs/stable/indexing.html#indexing-view-versus-copy\n"
     ]
    },
    {
     "name": "stdout",
     "output_type": "stream",
     "text": [
      "2번째 파일 완료\n",
      "-------------------------------------\n",
      "3번째 파일 완료\n",
      "-------------------------------------\n",
      "4번째 파일 완료\n",
      "-------------------------------------\n",
      "5번째 파일 완료\n",
      "-------------------------------------\n",
      "6번째 파일 완료\n",
      "-------------------------------------\n",
      "7번째 파일 완료\n",
      "-------------------------------------\n",
      "8번째 파일 완료\n",
      "-------------------------------------\n"
     ]
    }
   ],
   "source": [
    "# SNS 데이터 하나씩 불러와서 for문\n",
    "\n",
    "for i in range(len(filenames)):\n",
    "    sns = pd.read_excel(filenames[i])\n",
    "    \n",
    "    # 뉴스만 사용\n",
    "    sns = sns[sns.SECTION == '뉴스']\n",
    "    \n",
    "    # sns 각각의 형태소 담는 리스트\n",
    "    snsmorph = []\n",
    "    \n",
    "    for j in range(len(sns)) :\n",
    "        snsmorph.append(okt.morphs(sns['TITLE'].iloc[j]))\n",
    "     \n",
    "    # sns의 열로 형태소 리스트 추가\n",
    "    sns['MORPH_T1'] = snsmorph\n",
    "    \n",
    "    # 리스트 안의 원소들을 ,(쉼표) 기준으로 분해\n",
    "    sns2 = sns['MORPH_T1']\n",
    "    sns3 = [','.join(j) for j in sns2]\n",
    "    sns['MORPH_T'] = sns3\n",
    "    \n",
    "    # 추후 계산 작업을 위해 날짜 데이터 타입을 str으로 변경\n",
    "    snsdate = list(sns['DATE'])\n",
    "    snsdate = [str(snsdate[j])[:8] for j in range(len(snsdate))]\n",
    "    sns['DATE'] = snsdate \n",
    "    \n",
    "    # sns 형태소 분석 결과에서 미세먼지 있을 경우 1, 아닐 경우 0으로 카운트 -> 열로 추가\n",
    "    snscount = []\n",
    "    for w in range(len(sns)) :\n",
    "        snsw = sns['MORPH_T1'].iloc[w]\n",
    "        if '미세먼지' in snsw :\n",
    "            snscount.append('1')\n",
    "        elif '초미세먼지' in snsw :\n",
    "            snscount.append('1')\n",
    "        else :\n",
    "            snscount.append('0')\n",
    "    sns['COUNT'] = snscount\n",
    "    \n",
    "    # 합계 계산할 수 있도록 집계 개수 데이터 타입을 int로 변경\n",
    "    snsdc = sns[['DATE','COUNT']]\n",
    "    co = [int(snsdc['COUNT'].iloc[j]) for j in range(len(snsdc))]\n",
    "    snsdc['COUNT']=co\n",
    "    \n",
    "    # 날짜별 합계 구하기\n",
    "    groups = snsdc.groupby(snsdc.DATE)\n",
    "    gr = groups.sum()\n",
    "    \n",
    "    # 날짜가 인덱스로 되어 있으므로 열로 분리\n",
    "    grl = list(gr.index)\n",
    "    gr['DATE'] = grl\n",
    "    \n",
    "    # 인덱스 초기화 후 열 순서 변경\n",
    "    gr = gr.reset_index(drop=True)\n",
    "    gr = gr[['DATE', 'COUNT']]\n",
    "\n",
    "    gr.to_csv('../data/SNS/count/countsnstitle'+str(i+1)+'.csv',index=False)\n",
    "    \n",
    "    print(str(i+1)+'번째 파일 완료')\n",
    "    print('-------------------------------------')"
   ]
  },
  {
   "cell_type": "markdown",
   "metadata": {},
   "source": [
    "# 일자별 뉴스기사 개수 하나의 파일로 합치기 "
   ]
  },
  {
   "cell_type": "code",
   "execution_count": 4,
   "metadata": {},
   "outputs": [],
   "source": [
    "import glob\n",
    "import os\n",
    "import pandas as pd\n",
    "\n",
    "os.getcwd()\n",
    "\n",
    "filenames = glob.glob('../data/SNS/count/*.csv')"
   ]
  },
  {
   "cell_type": "code",
   "execution_count": 5,
   "metadata": {},
   "outputs": [
    {
     "data": {
      "text/plain": [
       "['../data/SNS/count\\\\countsnstitle1.csv',\n",
       " '../data/SNS/count\\\\countsnstitle2.csv',\n",
       " '../data/SNS/count\\\\countsnstitle3.csv',\n",
       " '../data/SNS/count\\\\countsnstitle4.csv',\n",
       " '../data/SNS/count\\\\countsnstitle5.csv',\n",
       " '../data/SNS/count\\\\countsnstitle6.csv',\n",
       " '../data/SNS/count\\\\countsnstitle7.csv',\n",
       " '../data/SNS/count\\\\countsnstitle8.csv']"
      ]
     },
     "execution_count": 5,
     "metadata": {},
     "output_type": "execute_result"
    }
   ],
   "source": [
    "filenames"
   ]
  },
  {
   "cell_type": "code",
   "execution_count": 6,
   "metadata": {},
   "outputs": [
    {
     "name": "stdout",
     "output_type": "stream",
     "text": [
      "first\n",
      "2\n",
      "3\n",
      "4\n",
      "5\n",
      "6\n",
      "7\n"
     ]
    }
   ],
   "source": [
    "# 처음 if문에서 0번째, 1번째 파일을 써야하므로 전체 개수에서 -1을 해서 for문 돌린다.\n",
    "for i in range(len(filenames) - 1):\n",
    "\n",
    "    # merge가 진행될 기본적인 데이터프레임 만들기\n",
    "    if i == 0:\n",
    "        f1 = pd.read_csv(filenames[0])\n",
    "        f2 = pd.read_csv(filenames[1])\n",
    "        \n",
    "        # 길이에 따라 cc, dd 정의\n",
    "        if len(f1) >= len(f2):\n",
    "            cc = f1\n",
    "            dd = f2\n",
    "        else:\n",
    "            dd = f1\n",
    "            cc = f2\n",
    "        \n",
    "        # merge 위치 결정 후 합치는 작업\n",
    "        results = cc.merge(dd, on='DATE', how='outer')\n",
    "        print('first')\n",
    "\n",
    "    else:\n",
    "\n",
    "        f = pd.read_csv(filenames[i + 1])\n",
    "        \n",
    "        if len(f) >= len(results):\n",
    "            cc = f\n",
    "            dd = results\n",
    "        else:\n",
    "            dd = f\n",
    "            cc = results\n",
    "        \n",
    "        # 파일 불러와서 차례대로 합치는 작업 (results에 누적)\n",
    "        results = cc.merge(dd, on='DATE', how='outer')\n",
    "        print(str(i+1))\n",
    "\n",
    "results.to_csv('../data/COUNT_T_MERGE.csv', index = False)"
   ]
  },
  {
   "cell_type": "markdown",
   "metadata": {},
   "source": [
    "# 뉴스기사 개수 일자별 최종 합계"
   ]
  },
  {
   "cell_type": "code",
   "execution_count": 7,
   "metadata": {},
   "outputs": [],
   "source": [
    "cnt = pd.read_csv('../data/COUNT_T_MERGE.csv')\n",
    "\n",
    "# NaN값 0으로 채우기\n",
    "cnt = cnt.fillna(0)\n",
    "\n",
    "# 일자별로 뉴스개수 더하기\n",
    "cnt['COUNT_T'] = cnt['COUNT_x']+cnt['COUNT_y']+cnt['COUNT_x.1']+cnt['COUNT_y.1']+cnt['COUNT_x.2']+cnt['COUNT_y.2']+cnt['COUNT_x.3']+cnt['COUNT_y.3']\n",
    "\n",
    "# DATE 기준 정렬\n",
    "cnt = cnt.sort_values(by='DATE')\n",
    "\n",
    "cnt.to_csv('../data/COUNT_T_MERGE2.csv',index=False)"
   ]
  }
 ],
 "metadata": {
  "kernelspec": {
   "display_name": "Python 3",
   "language": "python",
   "name": "python3"
  },
  "language_info": {
   "codemirror_mode": {
    "name": "ipython",
    "version": 3
   },
   "file_extension": ".py",
   "mimetype": "text/x-python",
   "name": "python",
   "nbconvert_exporter": "python",
   "pygments_lexer": "ipython3",
   "version": "3.7.3"
  }
 },
 "nbformat": 4,
 "nbformat_minor": 2
}
